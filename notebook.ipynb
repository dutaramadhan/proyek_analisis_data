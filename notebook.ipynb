{
  "cells": [
    {
      "cell_type": "markdown",
      "metadata": {
        "id": "H9wADwK78DCz"
      },
      "source": [
        "# Proyek Analisis Data: Air Quality Dataset\n",
        "- **Nama:** Diestra Pradana Duta Ramadhan\n",
        "- **Email:** duta2711@gmail.com\n",
        "- **ID Dicoding:** dutaramadhan2711"
      ]
    },
    {
      "cell_type": "markdown",
      "metadata": {
        "id": "eE0raob58DC0"
      },
      "source": [
        "## Menentukan Pertanyaan Bisnis"
      ]
    },
    {
      "cell_type": "markdown",
      "metadata": {
        "id": "GmQeQ5YF8DC0"
      },
      "source": [
        "- Wilayah mana saja yang memiliki rata-rata konsentrasi polutan(PM2.5, PM10, SO2, NO2, CO, O3) tertinggi? \n",
        "- Bagaimana pola tren kualitas udara berdasarkan hari kerja dan akhir pekan di setiap wilayah?"
      ]
    },
    {
      "cell_type": "markdown",
      "metadata": {
        "id": "H-z4QGlO8DC1"
      },
      "source": [
        "## Import Semua Packages/Library yang Digunakan"
      ]
    },
    {
      "cell_type": "code",
      "execution_count": 751,
      "metadata": {
        "id": "FVYwaObI8DC1"
      },
      "outputs": [],
      "source": [
        "import os\n",
        "import numpy as np\n",
        "import pandas as pd\n",
        "import matplotlib.pyplot as plt\n",
        "import seaborn as sns"
      ]
    },
    {
      "cell_type": "markdown",
      "metadata": {
        "id": "h_Sh51Xy8DC1"
      },
      "source": [
        "## Data Wrangling"
      ]
    },
    {
      "cell_type": "markdown",
      "metadata": {
        "id": "sXU2GBYu8DC1"
      },
      "source": [
        "### Gathering Data"
      ]
    },
    {
      "cell_type": "markdown",
      "metadata": {},
      "source": [
        "Dataset yang saya gunakan adalah dataset kualitas udara yang didalamnya terdapat 12 data dari 12 wilayah dalam rentang waktu 1 Maret 2013 - 28 Februari 2017. \n",
        "\n",
        "Saya melakukan listing terhadap kedua belas dataset, yang kemudian saya ubah menjadi dataframe untuk masing-masing dataset."
      ]
    },
    {
      "cell_type": "code",
      "execution_count": 752,
      "metadata": {},
      "outputs": [],
      "source": [
        "datasets = os.listdir('data')\n",
        "df_list = []\n",
        "\n",
        "for dataset in datasets:\n",
        "    df_list.append(pd.read_csv(os.path.join('data', dataset)))"
      ]
    },
    {
      "cell_type": "code",
      "execution_count": 753,
      "metadata": {},
      "outputs": [],
      "source": [
        "aotizhongxin_df, changping_df, dingling_df, dongsi_df, guanyuan_df, gucheng_df, huairou_df, nongzhanguan_df, shunyi_df, tiantan_df, wanliu_df, wanshouxigong_df = df_list"
      ]
    },
    {
      "cell_type": "code",
      "execution_count": 754,
      "metadata": {},
      "outputs": [
        {
          "data": {
            "text/html": [
              "<div>\n",
              "<style scoped>\n",
              "    .dataframe tbody tr th:only-of-type {\n",
              "        vertical-align: middle;\n",
              "    }\n",
              "\n",
              "    .dataframe tbody tr th {\n",
              "        vertical-align: top;\n",
              "    }\n",
              "\n",
              "    .dataframe thead th {\n",
              "        text-align: right;\n",
              "    }\n",
              "</style>\n",
              "<table border=\"1\" class=\"dataframe\">\n",
              "  <thead>\n",
              "    <tr style=\"text-align: right;\">\n",
              "      <th></th>\n",
              "      <th>No</th>\n",
              "      <th>year</th>\n",
              "      <th>month</th>\n",
              "      <th>day</th>\n",
              "      <th>hour</th>\n",
              "      <th>PM2.5</th>\n",
              "      <th>PM10</th>\n",
              "      <th>SO2</th>\n",
              "      <th>NO2</th>\n",
              "      <th>CO</th>\n",
              "      <th>O3</th>\n",
              "      <th>TEMP</th>\n",
              "      <th>PRES</th>\n",
              "      <th>DEWP</th>\n",
              "      <th>RAIN</th>\n",
              "      <th>wd</th>\n",
              "      <th>WSPM</th>\n",
              "      <th>station</th>\n",
              "    </tr>\n",
              "  </thead>\n",
              "  <tbody>\n",
              "    <tr>\n",
              "      <th>0</th>\n",
              "      <td>1</td>\n",
              "      <td>2013</td>\n",
              "      <td>3</td>\n",
              "      <td>1</td>\n",
              "      <td>0</td>\n",
              "      <td>4.0</td>\n",
              "      <td>4.0</td>\n",
              "      <td>4.0</td>\n",
              "      <td>7.0</td>\n",
              "      <td>300.0</td>\n",
              "      <td>77.0</td>\n",
              "      <td>-0.7</td>\n",
              "      <td>1023.0</td>\n",
              "      <td>-18.8</td>\n",
              "      <td>0.0</td>\n",
              "      <td>NNW</td>\n",
              "      <td>4.4</td>\n",
              "      <td>Aotizhongxin</td>\n",
              "    </tr>\n",
              "    <tr>\n",
              "      <th>1</th>\n",
              "      <td>2</td>\n",
              "      <td>2013</td>\n",
              "      <td>3</td>\n",
              "      <td>1</td>\n",
              "      <td>1</td>\n",
              "      <td>8.0</td>\n",
              "      <td>8.0</td>\n",
              "      <td>4.0</td>\n",
              "      <td>7.0</td>\n",
              "      <td>300.0</td>\n",
              "      <td>77.0</td>\n",
              "      <td>-1.1</td>\n",
              "      <td>1023.2</td>\n",
              "      <td>-18.2</td>\n",
              "      <td>0.0</td>\n",
              "      <td>N</td>\n",
              "      <td>4.7</td>\n",
              "      <td>Aotizhongxin</td>\n",
              "    </tr>\n",
              "    <tr>\n",
              "      <th>2</th>\n",
              "      <td>3</td>\n",
              "      <td>2013</td>\n",
              "      <td>3</td>\n",
              "      <td>1</td>\n",
              "      <td>2</td>\n",
              "      <td>7.0</td>\n",
              "      <td>7.0</td>\n",
              "      <td>5.0</td>\n",
              "      <td>10.0</td>\n",
              "      <td>300.0</td>\n",
              "      <td>73.0</td>\n",
              "      <td>-1.1</td>\n",
              "      <td>1023.5</td>\n",
              "      <td>-18.2</td>\n",
              "      <td>0.0</td>\n",
              "      <td>NNW</td>\n",
              "      <td>5.6</td>\n",
              "      <td>Aotizhongxin</td>\n",
              "    </tr>\n",
              "    <tr>\n",
              "      <th>3</th>\n",
              "      <td>4</td>\n",
              "      <td>2013</td>\n",
              "      <td>3</td>\n",
              "      <td>1</td>\n",
              "      <td>3</td>\n",
              "      <td>6.0</td>\n",
              "      <td>6.0</td>\n",
              "      <td>11.0</td>\n",
              "      <td>11.0</td>\n",
              "      <td>300.0</td>\n",
              "      <td>72.0</td>\n",
              "      <td>-1.4</td>\n",
              "      <td>1024.5</td>\n",
              "      <td>-19.4</td>\n",
              "      <td>0.0</td>\n",
              "      <td>NW</td>\n",
              "      <td>3.1</td>\n",
              "      <td>Aotizhongxin</td>\n",
              "    </tr>\n",
              "    <tr>\n",
              "      <th>4</th>\n",
              "      <td>5</td>\n",
              "      <td>2013</td>\n",
              "      <td>3</td>\n",
              "      <td>1</td>\n",
              "      <td>4</td>\n",
              "      <td>3.0</td>\n",
              "      <td>3.0</td>\n",
              "      <td>12.0</td>\n",
              "      <td>12.0</td>\n",
              "      <td>300.0</td>\n",
              "      <td>72.0</td>\n",
              "      <td>-2.0</td>\n",
              "      <td>1025.2</td>\n",
              "      <td>-19.5</td>\n",
              "      <td>0.0</td>\n",
              "      <td>N</td>\n",
              "      <td>2.0</td>\n",
              "      <td>Aotizhongxin</td>\n",
              "    </tr>\n",
              "  </tbody>\n",
              "</table>\n",
              "</div>"
            ],
            "text/plain": [
              "   No  year  month  day  hour  PM2.5  PM10   SO2   NO2     CO    O3  TEMP  \\\n",
              "0   1  2013      3    1     0    4.0   4.0   4.0   7.0  300.0  77.0  -0.7   \n",
              "1   2  2013      3    1     1    8.0   8.0   4.0   7.0  300.0  77.0  -1.1   \n",
              "2   3  2013      3    1     2    7.0   7.0   5.0  10.0  300.0  73.0  -1.1   \n",
              "3   4  2013      3    1     3    6.0   6.0  11.0  11.0  300.0  72.0  -1.4   \n",
              "4   5  2013      3    1     4    3.0   3.0  12.0  12.0  300.0  72.0  -2.0   \n",
              "\n",
              "     PRES  DEWP  RAIN   wd  WSPM       station  \n",
              "0  1023.0 -18.8   0.0  NNW   4.4  Aotizhongxin  \n",
              "1  1023.2 -18.2   0.0    N   4.7  Aotizhongxin  \n",
              "2  1023.5 -18.2   0.0  NNW   5.6  Aotizhongxin  \n",
              "3  1024.5 -19.4   0.0   NW   3.1  Aotizhongxin  \n",
              "4  1025.2 -19.5   0.0    N   2.0  Aotizhongxin  "
            ]
          },
          "execution_count": 754,
          "metadata": {},
          "output_type": "execute_result"
        }
      ],
      "source": [
        "aotizhongxin_df.head()"
      ]
    },
    {
      "cell_type": "code",
      "execution_count": 755,
      "metadata": {},
      "outputs": [
        {
          "data": {
            "text/html": [
              "<div>\n",
              "<style scoped>\n",
              "    .dataframe tbody tr th:only-of-type {\n",
              "        vertical-align: middle;\n",
              "    }\n",
              "\n",
              "    .dataframe tbody tr th {\n",
              "        vertical-align: top;\n",
              "    }\n",
              "\n",
              "    .dataframe thead th {\n",
              "        text-align: right;\n",
              "    }\n",
              "</style>\n",
              "<table border=\"1\" class=\"dataframe\">\n",
              "  <thead>\n",
              "    <tr style=\"text-align: right;\">\n",
              "      <th></th>\n",
              "      <th>No</th>\n",
              "      <th>year</th>\n",
              "      <th>month</th>\n",
              "      <th>day</th>\n",
              "      <th>hour</th>\n",
              "      <th>PM2.5</th>\n",
              "      <th>PM10</th>\n",
              "      <th>SO2</th>\n",
              "      <th>NO2</th>\n",
              "      <th>CO</th>\n",
              "      <th>O3</th>\n",
              "      <th>TEMP</th>\n",
              "      <th>PRES</th>\n",
              "      <th>DEWP</th>\n",
              "      <th>RAIN</th>\n",
              "      <th>wd</th>\n",
              "      <th>WSPM</th>\n",
              "      <th>station</th>\n",
              "    </tr>\n",
              "  </thead>\n",
              "  <tbody>\n",
              "    <tr>\n",
              "      <th>0</th>\n",
              "      <td>1</td>\n",
              "      <td>2013</td>\n",
              "      <td>3</td>\n",
              "      <td>1</td>\n",
              "      <td>0</td>\n",
              "      <td>3.0</td>\n",
              "      <td>6.0</td>\n",
              "      <td>13.0</td>\n",
              "      <td>7.0</td>\n",
              "      <td>300.0</td>\n",
              "      <td>85.0</td>\n",
              "      <td>-2.3</td>\n",
              "      <td>1020.8</td>\n",
              "      <td>-19.7</td>\n",
              "      <td>0.0</td>\n",
              "      <td>E</td>\n",
              "      <td>0.5</td>\n",
              "      <td>Changping</td>\n",
              "    </tr>\n",
              "    <tr>\n",
              "      <th>1</th>\n",
              "      <td>2</td>\n",
              "      <td>2013</td>\n",
              "      <td>3</td>\n",
              "      <td>1</td>\n",
              "      <td>1</td>\n",
              "      <td>3.0</td>\n",
              "      <td>3.0</td>\n",
              "      <td>6.0</td>\n",
              "      <td>6.0</td>\n",
              "      <td>300.0</td>\n",
              "      <td>85.0</td>\n",
              "      <td>-2.5</td>\n",
              "      <td>1021.3</td>\n",
              "      <td>-19.0</td>\n",
              "      <td>0.0</td>\n",
              "      <td>ENE</td>\n",
              "      <td>0.7</td>\n",
              "      <td>Changping</td>\n",
              "    </tr>\n",
              "    <tr>\n",
              "      <th>2</th>\n",
              "      <td>3</td>\n",
              "      <td>2013</td>\n",
              "      <td>3</td>\n",
              "      <td>1</td>\n",
              "      <td>2</td>\n",
              "      <td>3.0</td>\n",
              "      <td>3.0</td>\n",
              "      <td>22.0</td>\n",
              "      <td>13.0</td>\n",
              "      <td>400.0</td>\n",
              "      <td>74.0</td>\n",
              "      <td>-3.0</td>\n",
              "      <td>1021.3</td>\n",
              "      <td>-19.9</td>\n",
              "      <td>0.0</td>\n",
              "      <td>ENE</td>\n",
              "      <td>0.2</td>\n",
              "      <td>Changping</td>\n",
              "    </tr>\n",
              "    <tr>\n",
              "      <th>3</th>\n",
              "      <td>4</td>\n",
              "      <td>2013</td>\n",
              "      <td>3</td>\n",
              "      <td>1</td>\n",
              "      <td>3</td>\n",
              "      <td>3.0</td>\n",
              "      <td>6.0</td>\n",
              "      <td>12.0</td>\n",
              "      <td>8.0</td>\n",
              "      <td>300.0</td>\n",
              "      <td>81.0</td>\n",
              "      <td>-3.6</td>\n",
              "      <td>1021.8</td>\n",
              "      <td>-19.1</td>\n",
              "      <td>0.0</td>\n",
              "      <td>NNE</td>\n",
              "      <td>1.0</td>\n",
              "      <td>Changping</td>\n",
              "    </tr>\n",
              "    <tr>\n",
              "      <th>4</th>\n",
              "      <td>5</td>\n",
              "      <td>2013</td>\n",
              "      <td>3</td>\n",
              "      <td>1</td>\n",
              "      <td>4</td>\n",
              "      <td>3.0</td>\n",
              "      <td>3.0</td>\n",
              "      <td>14.0</td>\n",
              "      <td>8.0</td>\n",
              "      <td>300.0</td>\n",
              "      <td>81.0</td>\n",
              "      <td>-3.5</td>\n",
              "      <td>1022.3</td>\n",
              "      <td>-19.4</td>\n",
              "      <td>0.0</td>\n",
              "      <td>N</td>\n",
              "      <td>2.1</td>\n",
              "      <td>Changping</td>\n",
              "    </tr>\n",
              "  </tbody>\n",
              "</table>\n",
              "</div>"
            ],
            "text/plain": [
              "   No  year  month  day  hour  PM2.5  PM10   SO2   NO2     CO    O3  TEMP  \\\n",
              "0   1  2013      3    1     0    3.0   6.0  13.0   7.0  300.0  85.0  -2.3   \n",
              "1   2  2013      3    1     1    3.0   3.0   6.0   6.0  300.0  85.0  -2.5   \n",
              "2   3  2013      3    1     2    3.0   3.0  22.0  13.0  400.0  74.0  -3.0   \n",
              "3   4  2013      3    1     3    3.0   6.0  12.0   8.0  300.0  81.0  -3.6   \n",
              "4   5  2013      3    1     4    3.0   3.0  14.0   8.0  300.0  81.0  -3.5   \n",
              "\n",
              "     PRES  DEWP  RAIN   wd  WSPM    station  \n",
              "0  1020.8 -19.7   0.0    E   0.5  Changping  \n",
              "1  1021.3 -19.0   0.0  ENE   0.7  Changping  \n",
              "2  1021.3 -19.9   0.0  ENE   0.2  Changping  \n",
              "3  1021.8 -19.1   0.0  NNE   1.0  Changping  \n",
              "4  1022.3 -19.4   0.0    N   2.1  Changping  "
            ]
          },
          "execution_count": 755,
          "metadata": {},
          "output_type": "execute_result"
        }
      ],
      "source": [
        "changping_df.head()"
      ]
    },
    {
      "cell_type": "code",
      "execution_count": 756,
      "metadata": {},
      "outputs": [
        {
          "data": {
            "text/html": [
              "<div>\n",
              "<style scoped>\n",
              "    .dataframe tbody tr th:only-of-type {\n",
              "        vertical-align: middle;\n",
              "    }\n",
              "\n",
              "    .dataframe tbody tr th {\n",
              "        vertical-align: top;\n",
              "    }\n",
              "\n",
              "    .dataframe thead th {\n",
              "        text-align: right;\n",
              "    }\n",
              "</style>\n",
              "<table border=\"1\" class=\"dataframe\">\n",
              "  <thead>\n",
              "    <tr style=\"text-align: right;\">\n",
              "      <th></th>\n",
              "      <th>No</th>\n",
              "      <th>year</th>\n",
              "      <th>month</th>\n",
              "      <th>day</th>\n",
              "      <th>hour</th>\n",
              "      <th>PM2.5</th>\n",
              "      <th>PM10</th>\n",
              "      <th>SO2</th>\n",
              "      <th>NO2</th>\n",
              "      <th>CO</th>\n",
              "      <th>O3</th>\n",
              "      <th>TEMP</th>\n",
              "      <th>PRES</th>\n",
              "      <th>DEWP</th>\n",
              "      <th>RAIN</th>\n",
              "      <th>wd</th>\n",
              "      <th>WSPM</th>\n",
              "      <th>station</th>\n",
              "    </tr>\n",
              "  </thead>\n",
              "  <tbody>\n",
              "    <tr>\n",
              "      <th>0</th>\n",
              "      <td>1</td>\n",
              "      <td>2013</td>\n",
              "      <td>3</td>\n",
              "      <td>1</td>\n",
              "      <td>0</td>\n",
              "      <td>4.0</td>\n",
              "      <td>4.0</td>\n",
              "      <td>3.0</td>\n",
              "      <td>NaN</td>\n",
              "      <td>200.0</td>\n",
              "      <td>82.0</td>\n",
              "      <td>-2.3</td>\n",
              "      <td>1020.8</td>\n",
              "      <td>-19.7</td>\n",
              "      <td>0.0</td>\n",
              "      <td>E</td>\n",
              "      <td>0.5</td>\n",
              "      <td>Dingling</td>\n",
              "    </tr>\n",
              "    <tr>\n",
              "      <th>1</th>\n",
              "      <td>2</td>\n",
              "      <td>2013</td>\n",
              "      <td>3</td>\n",
              "      <td>1</td>\n",
              "      <td>1</td>\n",
              "      <td>7.0</td>\n",
              "      <td>7.0</td>\n",
              "      <td>3.0</td>\n",
              "      <td>NaN</td>\n",
              "      <td>200.0</td>\n",
              "      <td>80.0</td>\n",
              "      <td>-2.5</td>\n",
              "      <td>1021.3</td>\n",
              "      <td>-19.0</td>\n",
              "      <td>0.0</td>\n",
              "      <td>ENE</td>\n",
              "      <td>0.7</td>\n",
              "      <td>Dingling</td>\n",
              "    </tr>\n",
              "    <tr>\n",
              "      <th>2</th>\n",
              "      <td>3</td>\n",
              "      <td>2013</td>\n",
              "      <td>3</td>\n",
              "      <td>1</td>\n",
              "      <td>2</td>\n",
              "      <td>5.0</td>\n",
              "      <td>5.0</td>\n",
              "      <td>3.0</td>\n",
              "      <td>2.0</td>\n",
              "      <td>200.0</td>\n",
              "      <td>79.0</td>\n",
              "      <td>-3.0</td>\n",
              "      <td>1021.3</td>\n",
              "      <td>-19.9</td>\n",
              "      <td>0.0</td>\n",
              "      <td>ENE</td>\n",
              "      <td>0.2</td>\n",
              "      <td>Dingling</td>\n",
              "    </tr>\n",
              "    <tr>\n",
              "      <th>3</th>\n",
              "      <td>4</td>\n",
              "      <td>2013</td>\n",
              "      <td>3</td>\n",
              "      <td>1</td>\n",
              "      <td>3</td>\n",
              "      <td>6.0</td>\n",
              "      <td>6.0</td>\n",
              "      <td>3.0</td>\n",
              "      <td>NaN</td>\n",
              "      <td>200.0</td>\n",
              "      <td>79.0</td>\n",
              "      <td>-3.6</td>\n",
              "      <td>1021.8</td>\n",
              "      <td>-19.1</td>\n",
              "      <td>0.0</td>\n",
              "      <td>NNE</td>\n",
              "      <td>1.0</td>\n",
              "      <td>Dingling</td>\n",
              "    </tr>\n",
              "    <tr>\n",
              "      <th>4</th>\n",
              "      <td>5</td>\n",
              "      <td>2013</td>\n",
              "      <td>3</td>\n",
              "      <td>1</td>\n",
              "      <td>4</td>\n",
              "      <td>5.0</td>\n",
              "      <td>5.0</td>\n",
              "      <td>3.0</td>\n",
              "      <td>NaN</td>\n",
              "      <td>200.0</td>\n",
              "      <td>81.0</td>\n",
              "      <td>-3.5</td>\n",
              "      <td>1022.3</td>\n",
              "      <td>-19.4</td>\n",
              "      <td>0.0</td>\n",
              "      <td>N</td>\n",
              "      <td>2.1</td>\n",
              "      <td>Dingling</td>\n",
              "    </tr>\n",
              "  </tbody>\n",
              "</table>\n",
              "</div>"
            ],
            "text/plain": [
              "   No  year  month  day  hour  PM2.5  PM10  SO2  NO2     CO    O3  TEMP  \\\n",
              "0   1  2013      3    1     0    4.0   4.0  3.0  NaN  200.0  82.0  -2.3   \n",
              "1   2  2013      3    1     1    7.0   7.0  3.0  NaN  200.0  80.0  -2.5   \n",
              "2   3  2013      3    1     2    5.0   5.0  3.0  2.0  200.0  79.0  -3.0   \n",
              "3   4  2013      3    1     3    6.0   6.0  3.0  NaN  200.0  79.0  -3.6   \n",
              "4   5  2013      3    1     4    5.0   5.0  3.0  NaN  200.0  81.0  -3.5   \n",
              "\n",
              "     PRES  DEWP  RAIN   wd  WSPM   station  \n",
              "0  1020.8 -19.7   0.0    E   0.5  Dingling  \n",
              "1  1021.3 -19.0   0.0  ENE   0.7  Dingling  \n",
              "2  1021.3 -19.9   0.0  ENE   0.2  Dingling  \n",
              "3  1021.8 -19.1   0.0  NNE   1.0  Dingling  \n",
              "4  1022.3 -19.4   0.0    N   2.1  Dingling  "
            ]
          },
          "execution_count": 756,
          "metadata": {},
          "output_type": "execute_result"
        }
      ],
      "source": [
        "dingling_df.head()"
      ]
    },
    {
      "cell_type": "code",
      "execution_count": 757,
      "metadata": {},
      "outputs": [
        {
          "data": {
            "text/html": [
              "<div>\n",
              "<style scoped>\n",
              "    .dataframe tbody tr th:only-of-type {\n",
              "        vertical-align: middle;\n",
              "    }\n",
              "\n",
              "    .dataframe tbody tr th {\n",
              "        vertical-align: top;\n",
              "    }\n",
              "\n",
              "    .dataframe thead th {\n",
              "        text-align: right;\n",
              "    }\n",
              "</style>\n",
              "<table border=\"1\" class=\"dataframe\">\n",
              "  <thead>\n",
              "    <tr style=\"text-align: right;\">\n",
              "      <th></th>\n",
              "      <th>No</th>\n",
              "      <th>year</th>\n",
              "      <th>month</th>\n",
              "      <th>day</th>\n",
              "      <th>hour</th>\n",
              "      <th>PM2.5</th>\n",
              "      <th>PM10</th>\n",
              "      <th>SO2</th>\n",
              "      <th>NO2</th>\n",
              "      <th>CO</th>\n",
              "      <th>O3</th>\n",
              "      <th>TEMP</th>\n",
              "      <th>PRES</th>\n",
              "      <th>DEWP</th>\n",
              "      <th>RAIN</th>\n",
              "      <th>wd</th>\n",
              "      <th>WSPM</th>\n",
              "      <th>station</th>\n",
              "    </tr>\n",
              "  </thead>\n",
              "  <tbody>\n",
              "    <tr>\n",
              "      <th>0</th>\n",
              "      <td>1</td>\n",
              "      <td>2013</td>\n",
              "      <td>3</td>\n",
              "      <td>1</td>\n",
              "      <td>0</td>\n",
              "      <td>9.0</td>\n",
              "      <td>9.0</td>\n",
              "      <td>3.0</td>\n",
              "      <td>17.0</td>\n",
              "      <td>300.0</td>\n",
              "      <td>89.0</td>\n",
              "      <td>-0.5</td>\n",
              "      <td>1024.5</td>\n",
              "      <td>-21.4</td>\n",
              "      <td>0.0</td>\n",
              "      <td>NNW</td>\n",
              "      <td>5.7</td>\n",
              "      <td>Dongsi</td>\n",
              "    </tr>\n",
              "    <tr>\n",
              "      <th>1</th>\n",
              "      <td>2</td>\n",
              "      <td>2013</td>\n",
              "      <td>3</td>\n",
              "      <td>1</td>\n",
              "      <td>1</td>\n",
              "      <td>4.0</td>\n",
              "      <td>4.0</td>\n",
              "      <td>3.0</td>\n",
              "      <td>16.0</td>\n",
              "      <td>300.0</td>\n",
              "      <td>88.0</td>\n",
              "      <td>-0.7</td>\n",
              "      <td>1025.1</td>\n",
              "      <td>-22.1</td>\n",
              "      <td>0.0</td>\n",
              "      <td>NW</td>\n",
              "      <td>3.9</td>\n",
              "      <td>Dongsi</td>\n",
              "    </tr>\n",
              "    <tr>\n",
              "      <th>2</th>\n",
              "      <td>3</td>\n",
              "      <td>2013</td>\n",
              "      <td>3</td>\n",
              "      <td>1</td>\n",
              "      <td>2</td>\n",
              "      <td>7.0</td>\n",
              "      <td>7.0</td>\n",
              "      <td>NaN</td>\n",
              "      <td>17.0</td>\n",
              "      <td>300.0</td>\n",
              "      <td>60.0</td>\n",
              "      <td>-1.2</td>\n",
              "      <td>1025.3</td>\n",
              "      <td>-24.6</td>\n",
              "      <td>0.0</td>\n",
              "      <td>NNW</td>\n",
              "      <td>5.3</td>\n",
              "      <td>Dongsi</td>\n",
              "    </tr>\n",
              "    <tr>\n",
              "      <th>3</th>\n",
              "      <td>4</td>\n",
              "      <td>2013</td>\n",
              "      <td>3</td>\n",
              "      <td>1</td>\n",
              "      <td>3</td>\n",
              "      <td>3.0</td>\n",
              "      <td>3.0</td>\n",
              "      <td>5.0</td>\n",
              "      <td>18.0</td>\n",
              "      <td>NaN</td>\n",
              "      <td>NaN</td>\n",
              "      <td>-1.4</td>\n",
              "      <td>1026.2</td>\n",
              "      <td>-25.5</td>\n",
              "      <td>0.0</td>\n",
              "      <td>N</td>\n",
              "      <td>4.9</td>\n",
              "      <td>Dongsi</td>\n",
              "    </tr>\n",
              "    <tr>\n",
              "      <th>4</th>\n",
              "      <td>5</td>\n",
              "      <td>2013</td>\n",
              "      <td>3</td>\n",
              "      <td>1</td>\n",
              "      <td>4</td>\n",
              "      <td>3.0</td>\n",
              "      <td>3.0</td>\n",
              "      <td>7.0</td>\n",
              "      <td>NaN</td>\n",
              "      <td>200.0</td>\n",
              "      <td>84.0</td>\n",
              "      <td>-1.9</td>\n",
              "      <td>1027.1</td>\n",
              "      <td>-24.5</td>\n",
              "      <td>0.0</td>\n",
              "      <td>NNW</td>\n",
              "      <td>3.2</td>\n",
              "      <td>Dongsi</td>\n",
              "    </tr>\n",
              "  </tbody>\n",
              "</table>\n",
              "</div>"
            ],
            "text/plain": [
              "   No  year  month  day  hour  PM2.5  PM10  SO2   NO2     CO    O3  TEMP  \\\n",
              "0   1  2013      3    1     0    9.0   9.0  3.0  17.0  300.0  89.0  -0.5   \n",
              "1   2  2013      3    1     1    4.0   4.0  3.0  16.0  300.0  88.0  -0.7   \n",
              "2   3  2013      3    1     2    7.0   7.0  NaN  17.0  300.0  60.0  -1.2   \n",
              "3   4  2013      3    1     3    3.0   3.0  5.0  18.0    NaN   NaN  -1.4   \n",
              "4   5  2013      3    1     4    3.0   3.0  7.0   NaN  200.0  84.0  -1.9   \n",
              "\n",
              "     PRES  DEWP  RAIN   wd  WSPM station  \n",
              "0  1024.5 -21.4   0.0  NNW   5.7  Dongsi  \n",
              "1  1025.1 -22.1   0.0   NW   3.9  Dongsi  \n",
              "2  1025.3 -24.6   0.0  NNW   5.3  Dongsi  \n",
              "3  1026.2 -25.5   0.0    N   4.9  Dongsi  \n",
              "4  1027.1 -24.5   0.0  NNW   3.2  Dongsi  "
            ]
          },
          "execution_count": 757,
          "metadata": {},
          "output_type": "execute_result"
        }
      ],
      "source": [
        "dongsi_df.head()"
      ]
    },
    {
      "cell_type": "code",
      "execution_count": 758,
      "metadata": {},
      "outputs": [
        {
          "data": {
            "text/html": [
              "<div>\n",
              "<style scoped>\n",
              "    .dataframe tbody tr th:only-of-type {\n",
              "        vertical-align: middle;\n",
              "    }\n",
              "\n",
              "    .dataframe tbody tr th {\n",
              "        vertical-align: top;\n",
              "    }\n",
              "\n",
              "    .dataframe thead th {\n",
              "        text-align: right;\n",
              "    }\n",
              "</style>\n",
              "<table border=\"1\" class=\"dataframe\">\n",
              "  <thead>\n",
              "    <tr style=\"text-align: right;\">\n",
              "      <th></th>\n",
              "      <th>No</th>\n",
              "      <th>year</th>\n",
              "      <th>month</th>\n",
              "      <th>day</th>\n",
              "      <th>hour</th>\n",
              "      <th>PM2.5</th>\n",
              "      <th>PM10</th>\n",
              "      <th>SO2</th>\n",
              "      <th>NO2</th>\n",
              "      <th>CO</th>\n",
              "      <th>O3</th>\n",
              "      <th>TEMP</th>\n",
              "      <th>PRES</th>\n",
              "      <th>DEWP</th>\n",
              "      <th>RAIN</th>\n",
              "      <th>wd</th>\n",
              "      <th>WSPM</th>\n",
              "      <th>station</th>\n",
              "    </tr>\n",
              "  </thead>\n",
              "  <tbody>\n",
              "    <tr>\n",
              "      <th>0</th>\n",
              "      <td>1</td>\n",
              "      <td>2013</td>\n",
              "      <td>3</td>\n",
              "      <td>1</td>\n",
              "      <td>0</td>\n",
              "      <td>4.0</td>\n",
              "      <td>4.0</td>\n",
              "      <td>14.0</td>\n",
              "      <td>20.0</td>\n",
              "      <td>300.0</td>\n",
              "      <td>69.0</td>\n",
              "      <td>-0.7</td>\n",
              "      <td>1023.0</td>\n",
              "      <td>-18.8</td>\n",
              "      <td>0.0</td>\n",
              "      <td>NNW</td>\n",
              "      <td>4.4</td>\n",
              "      <td>Guanyuan</td>\n",
              "    </tr>\n",
              "    <tr>\n",
              "      <th>1</th>\n",
              "      <td>2</td>\n",
              "      <td>2013</td>\n",
              "      <td>3</td>\n",
              "      <td>1</td>\n",
              "      <td>1</td>\n",
              "      <td>4.0</td>\n",
              "      <td>4.0</td>\n",
              "      <td>13.0</td>\n",
              "      <td>17.0</td>\n",
              "      <td>300.0</td>\n",
              "      <td>72.0</td>\n",
              "      <td>-1.1</td>\n",
              "      <td>1023.2</td>\n",
              "      <td>-18.2</td>\n",
              "      <td>0.0</td>\n",
              "      <td>N</td>\n",
              "      <td>4.7</td>\n",
              "      <td>Guanyuan</td>\n",
              "    </tr>\n",
              "    <tr>\n",
              "      <th>2</th>\n",
              "      <td>3</td>\n",
              "      <td>2013</td>\n",
              "      <td>3</td>\n",
              "      <td>1</td>\n",
              "      <td>2</td>\n",
              "      <td>3.0</td>\n",
              "      <td>3.0</td>\n",
              "      <td>10.0</td>\n",
              "      <td>19.0</td>\n",
              "      <td>300.0</td>\n",
              "      <td>69.0</td>\n",
              "      <td>-1.1</td>\n",
              "      <td>1023.5</td>\n",
              "      <td>-18.2</td>\n",
              "      <td>0.0</td>\n",
              "      <td>NNW</td>\n",
              "      <td>5.6</td>\n",
              "      <td>Guanyuan</td>\n",
              "    </tr>\n",
              "    <tr>\n",
              "      <th>3</th>\n",
              "      <td>4</td>\n",
              "      <td>2013</td>\n",
              "      <td>3</td>\n",
              "      <td>1</td>\n",
              "      <td>3</td>\n",
              "      <td>3.0</td>\n",
              "      <td>6.0</td>\n",
              "      <td>7.0</td>\n",
              "      <td>24.0</td>\n",
              "      <td>400.0</td>\n",
              "      <td>62.0</td>\n",
              "      <td>-1.4</td>\n",
              "      <td>1024.5</td>\n",
              "      <td>-19.4</td>\n",
              "      <td>0.0</td>\n",
              "      <td>NW</td>\n",
              "      <td>3.1</td>\n",
              "      <td>Guanyuan</td>\n",
              "    </tr>\n",
              "    <tr>\n",
              "      <th>4</th>\n",
              "      <td>5</td>\n",
              "      <td>2013</td>\n",
              "      <td>3</td>\n",
              "      <td>1</td>\n",
              "      <td>4</td>\n",
              "      <td>3.0</td>\n",
              "      <td>6.0</td>\n",
              "      <td>5.0</td>\n",
              "      <td>14.0</td>\n",
              "      <td>400.0</td>\n",
              "      <td>71.0</td>\n",
              "      <td>-2.0</td>\n",
              "      <td>1025.2</td>\n",
              "      <td>-19.5</td>\n",
              "      <td>0.0</td>\n",
              "      <td>N</td>\n",
              "      <td>2.0</td>\n",
              "      <td>Guanyuan</td>\n",
              "    </tr>\n",
              "  </tbody>\n",
              "</table>\n",
              "</div>"
            ],
            "text/plain": [
              "   No  year  month  day  hour  PM2.5  PM10   SO2   NO2     CO    O3  TEMP  \\\n",
              "0   1  2013      3    1     0    4.0   4.0  14.0  20.0  300.0  69.0  -0.7   \n",
              "1   2  2013      3    1     1    4.0   4.0  13.0  17.0  300.0  72.0  -1.1   \n",
              "2   3  2013      3    1     2    3.0   3.0  10.0  19.0  300.0  69.0  -1.1   \n",
              "3   4  2013      3    1     3    3.0   6.0   7.0  24.0  400.0  62.0  -1.4   \n",
              "4   5  2013      3    1     4    3.0   6.0   5.0  14.0  400.0  71.0  -2.0   \n",
              "\n",
              "     PRES  DEWP  RAIN   wd  WSPM   station  \n",
              "0  1023.0 -18.8   0.0  NNW   4.4  Guanyuan  \n",
              "1  1023.2 -18.2   0.0    N   4.7  Guanyuan  \n",
              "2  1023.5 -18.2   0.0  NNW   5.6  Guanyuan  \n",
              "3  1024.5 -19.4   0.0   NW   3.1  Guanyuan  \n",
              "4  1025.2 -19.5   0.0    N   2.0  Guanyuan  "
            ]
          },
          "execution_count": 758,
          "metadata": {},
          "output_type": "execute_result"
        }
      ],
      "source": [
        "guanyuan_df.head()"
      ]
    },
    {
      "cell_type": "code",
      "execution_count": 759,
      "metadata": {},
      "outputs": [
        {
          "data": {
            "text/html": [
              "<div>\n",
              "<style scoped>\n",
              "    .dataframe tbody tr th:only-of-type {\n",
              "        vertical-align: middle;\n",
              "    }\n",
              "\n",
              "    .dataframe tbody tr th {\n",
              "        vertical-align: top;\n",
              "    }\n",
              "\n",
              "    .dataframe thead th {\n",
              "        text-align: right;\n",
              "    }\n",
              "</style>\n",
              "<table border=\"1\" class=\"dataframe\">\n",
              "  <thead>\n",
              "    <tr style=\"text-align: right;\">\n",
              "      <th></th>\n",
              "      <th>No</th>\n",
              "      <th>year</th>\n",
              "      <th>month</th>\n",
              "      <th>day</th>\n",
              "      <th>hour</th>\n",
              "      <th>PM2.5</th>\n",
              "      <th>PM10</th>\n",
              "      <th>SO2</th>\n",
              "      <th>NO2</th>\n",
              "      <th>CO</th>\n",
              "      <th>O3</th>\n",
              "      <th>TEMP</th>\n",
              "      <th>PRES</th>\n",
              "      <th>DEWP</th>\n",
              "      <th>RAIN</th>\n",
              "      <th>wd</th>\n",
              "      <th>WSPM</th>\n",
              "      <th>station</th>\n",
              "    </tr>\n",
              "  </thead>\n",
              "  <tbody>\n",
              "    <tr>\n",
              "      <th>0</th>\n",
              "      <td>1</td>\n",
              "      <td>2013</td>\n",
              "      <td>3</td>\n",
              "      <td>1</td>\n",
              "      <td>0</td>\n",
              "      <td>6.0</td>\n",
              "      <td>18.0</td>\n",
              "      <td>5.0</td>\n",
              "      <td>NaN</td>\n",
              "      <td>800.0</td>\n",
              "      <td>88.0</td>\n",
              "      <td>0.1</td>\n",
              "      <td>1021.1</td>\n",
              "      <td>-18.6</td>\n",
              "      <td>0.0</td>\n",
              "      <td>NW</td>\n",
              "      <td>4.4</td>\n",
              "      <td>Gucheng</td>\n",
              "    </tr>\n",
              "    <tr>\n",
              "      <th>1</th>\n",
              "      <td>2</td>\n",
              "      <td>2013</td>\n",
              "      <td>3</td>\n",
              "      <td>1</td>\n",
              "      <td>1</td>\n",
              "      <td>6.0</td>\n",
              "      <td>15.0</td>\n",
              "      <td>5.0</td>\n",
              "      <td>NaN</td>\n",
              "      <td>800.0</td>\n",
              "      <td>88.0</td>\n",
              "      <td>-0.3</td>\n",
              "      <td>1021.5</td>\n",
              "      <td>-19.0</td>\n",
              "      <td>0.0</td>\n",
              "      <td>NW</td>\n",
              "      <td>4.0</td>\n",
              "      <td>Gucheng</td>\n",
              "    </tr>\n",
              "    <tr>\n",
              "      <th>2</th>\n",
              "      <td>3</td>\n",
              "      <td>2013</td>\n",
              "      <td>3</td>\n",
              "      <td>1</td>\n",
              "      <td>2</td>\n",
              "      <td>5.0</td>\n",
              "      <td>18.0</td>\n",
              "      <td>NaN</td>\n",
              "      <td>NaN</td>\n",
              "      <td>700.0</td>\n",
              "      <td>52.0</td>\n",
              "      <td>-0.7</td>\n",
              "      <td>1021.5</td>\n",
              "      <td>-19.8</td>\n",
              "      <td>0.0</td>\n",
              "      <td>WNW</td>\n",
              "      <td>4.6</td>\n",
              "      <td>Gucheng</td>\n",
              "    </tr>\n",
              "    <tr>\n",
              "      <th>3</th>\n",
              "      <td>4</td>\n",
              "      <td>2013</td>\n",
              "      <td>3</td>\n",
              "      <td>1</td>\n",
              "      <td>3</td>\n",
              "      <td>6.0</td>\n",
              "      <td>20.0</td>\n",
              "      <td>6.0</td>\n",
              "      <td>NaN</td>\n",
              "      <td>NaN</td>\n",
              "      <td>NaN</td>\n",
              "      <td>-1.0</td>\n",
              "      <td>1022.7</td>\n",
              "      <td>-21.2</td>\n",
              "      <td>0.0</td>\n",
              "      <td>W</td>\n",
              "      <td>2.8</td>\n",
              "      <td>Gucheng</td>\n",
              "    </tr>\n",
              "    <tr>\n",
              "      <th>4</th>\n",
              "      <td>5</td>\n",
              "      <td>2013</td>\n",
              "      <td>3</td>\n",
              "      <td>1</td>\n",
              "      <td>4</td>\n",
              "      <td>5.0</td>\n",
              "      <td>17.0</td>\n",
              "      <td>5.0</td>\n",
              "      <td>NaN</td>\n",
              "      <td>600.0</td>\n",
              "      <td>73.0</td>\n",
              "      <td>-1.3</td>\n",
              "      <td>1023.0</td>\n",
              "      <td>-21.4</td>\n",
              "      <td>0.0</td>\n",
              "      <td>WNW</td>\n",
              "      <td>3.6</td>\n",
              "      <td>Gucheng</td>\n",
              "    </tr>\n",
              "  </tbody>\n",
              "</table>\n",
              "</div>"
            ],
            "text/plain": [
              "   No  year  month  day  hour  PM2.5  PM10  SO2  NO2     CO    O3  TEMP  \\\n",
              "0   1  2013      3    1     0    6.0  18.0  5.0  NaN  800.0  88.0   0.1   \n",
              "1   2  2013      3    1     1    6.0  15.0  5.0  NaN  800.0  88.0  -0.3   \n",
              "2   3  2013      3    1     2    5.0  18.0  NaN  NaN  700.0  52.0  -0.7   \n",
              "3   4  2013      3    1     3    6.0  20.0  6.0  NaN    NaN   NaN  -1.0   \n",
              "4   5  2013      3    1     4    5.0  17.0  5.0  NaN  600.0  73.0  -1.3   \n",
              "\n",
              "     PRES  DEWP  RAIN   wd  WSPM  station  \n",
              "0  1021.1 -18.6   0.0   NW   4.4  Gucheng  \n",
              "1  1021.5 -19.0   0.0   NW   4.0  Gucheng  \n",
              "2  1021.5 -19.8   0.0  WNW   4.6  Gucheng  \n",
              "3  1022.7 -21.2   0.0    W   2.8  Gucheng  \n",
              "4  1023.0 -21.4   0.0  WNW   3.6  Gucheng  "
            ]
          },
          "execution_count": 759,
          "metadata": {},
          "output_type": "execute_result"
        }
      ],
      "source": [
        "gucheng_df.head()"
      ]
    },
    {
      "cell_type": "code",
      "execution_count": 760,
      "metadata": {},
      "outputs": [
        {
          "data": {
            "text/html": [
              "<div>\n",
              "<style scoped>\n",
              "    .dataframe tbody tr th:only-of-type {\n",
              "        vertical-align: middle;\n",
              "    }\n",
              "\n",
              "    .dataframe tbody tr th {\n",
              "        vertical-align: top;\n",
              "    }\n",
              "\n",
              "    .dataframe thead th {\n",
              "        text-align: right;\n",
              "    }\n",
              "</style>\n",
              "<table border=\"1\" class=\"dataframe\">\n",
              "  <thead>\n",
              "    <tr style=\"text-align: right;\">\n",
              "      <th></th>\n",
              "      <th>No</th>\n",
              "      <th>year</th>\n",
              "      <th>month</th>\n",
              "      <th>day</th>\n",
              "      <th>hour</th>\n",
              "      <th>PM2.5</th>\n",
              "      <th>PM10</th>\n",
              "      <th>SO2</th>\n",
              "      <th>NO2</th>\n",
              "      <th>CO</th>\n",
              "      <th>O3</th>\n",
              "      <th>TEMP</th>\n",
              "      <th>PRES</th>\n",
              "      <th>DEWP</th>\n",
              "      <th>RAIN</th>\n",
              "      <th>wd</th>\n",
              "      <th>WSPM</th>\n",
              "      <th>station</th>\n",
              "    </tr>\n",
              "  </thead>\n",
              "  <tbody>\n",
              "    <tr>\n",
              "      <th>0</th>\n",
              "      <td>1</td>\n",
              "      <td>2013</td>\n",
              "      <td>3</td>\n",
              "      <td>1</td>\n",
              "      <td>0</td>\n",
              "      <td>7.0</td>\n",
              "      <td>7.0</td>\n",
              "      <td>3.0</td>\n",
              "      <td>2.0</td>\n",
              "      <td>100.0</td>\n",
              "      <td>91.0</td>\n",
              "      <td>-2.3</td>\n",
              "      <td>1020.3</td>\n",
              "      <td>-20.7</td>\n",
              "      <td>0.0</td>\n",
              "      <td>WNW</td>\n",
              "      <td>3.1</td>\n",
              "      <td>Huairou</td>\n",
              "    </tr>\n",
              "    <tr>\n",
              "      <th>1</th>\n",
              "      <td>2</td>\n",
              "      <td>2013</td>\n",
              "      <td>3</td>\n",
              "      <td>1</td>\n",
              "      <td>1</td>\n",
              "      <td>4.0</td>\n",
              "      <td>4.0</td>\n",
              "      <td>3.0</td>\n",
              "      <td>NaN</td>\n",
              "      <td>100.0</td>\n",
              "      <td>92.0</td>\n",
              "      <td>-2.7</td>\n",
              "      <td>1020.8</td>\n",
              "      <td>-20.5</td>\n",
              "      <td>0.0</td>\n",
              "      <td>NNW</td>\n",
              "      <td>1.5</td>\n",
              "      <td>Huairou</td>\n",
              "    </tr>\n",
              "    <tr>\n",
              "      <th>2</th>\n",
              "      <td>3</td>\n",
              "      <td>2013</td>\n",
              "      <td>3</td>\n",
              "      <td>1</td>\n",
              "      <td>2</td>\n",
              "      <td>4.0</td>\n",
              "      <td>4.0</td>\n",
              "      <td>NaN</td>\n",
              "      <td>NaN</td>\n",
              "      <td>100.0</td>\n",
              "      <td>91.0</td>\n",
              "      <td>-3.2</td>\n",
              "      <td>1020.6</td>\n",
              "      <td>-21.4</td>\n",
              "      <td>0.0</td>\n",
              "      <td>NW</td>\n",
              "      <td>1.8</td>\n",
              "      <td>Huairou</td>\n",
              "    </tr>\n",
              "    <tr>\n",
              "      <th>3</th>\n",
              "      <td>4</td>\n",
              "      <td>2013</td>\n",
              "      <td>3</td>\n",
              "      <td>1</td>\n",
              "      <td>3</td>\n",
              "      <td>3.0</td>\n",
              "      <td>3.0</td>\n",
              "      <td>3.0</td>\n",
              "      <td>2.0</td>\n",
              "      <td>NaN</td>\n",
              "      <td>NaN</td>\n",
              "      <td>-3.3</td>\n",
              "      <td>1021.3</td>\n",
              "      <td>-23.7</td>\n",
              "      <td>0.0</td>\n",
              "      <td>NNW</td>\n",
              "      <td>2.4</td>\n",
              "      <td>Huairou</td>\n",
              "    </tr>\n",
              "    <tr>\n",
              "      <th>4</th>\n",
              "      <td>5</td>\n",
              "      <td>2013</td>\n",
              "      <td>3</td>\n",
              "      <td>1</td>\n",
              "      <td>4</td>\n",
              "      <td>3.0</td>\n",
              "      <td>3.0</td>\n",
              "      <td>7.0</td>\n",
              "      <td>NaN</td>\n",
              "      <td>300.0</td>\n",
              "      <td>86.0</td>\n",
              "      <td>-4.1</td>\n",
              "      <td>1022.1</td>\n",
              "      <td>-22.7</td>\n",
              "      <td>0.0</td>\n",
              "      <td>NNW</td>\n",
              "      <td>2.2</td>\n",
              "      <td>Huairou</td>\n",
              "    </tr>\n",
              "  </tbody>\n",
              "</table>\n",
              "</div>"
            ],
            "text/plain": [
              "   No  year  month  day  hour  PM2.5  PM10  SO2  NO2     CO    O3  TEMP  \\\n",
              "0   1  2013      3    1     0    7.0   7.0  3.0  2.0  100.0  91.0  -2.3   \n",
              "1   2  2013      3    1     1    4.0   4.0  3.0  NaN  100.0  92.0  -2.7   \n",
              "2   3  2013      3    1     2    4.0   4.0  NaN  NaN  100.0  91.0  -3.2   \n",
              "3   4  2013      3    1     3    3.0   3.0  3.0  2.0    NaN   NaN  -3.3   \n",
              "4   5  2013      3    1     4    3.0   3.0  7.0  NaN  300.0  86.0  -4.1   \n",
              "\n",
              "     PRES  DEWP  RAIN   wd  WSPM  station  \n",
              "0  1020.3 -20.7   0.0  WNW   3.1  Huairou  \n",
              "1  1020.8 -20.5   0.0  NNW   1.5  Huairou  \n",
              "2  1020.6 -21.4   0.0   NW   1.8  Huairou  \n",
              "3  1021.3 -23.7   0.0  NNW   2.4  Huairou  \n",
              "4  1022.1 -22.7   0.0  NNW   2.2  Huairou  "
            ]
          },
          "execution_count": 760,
          "metadata": {},
          "output_type": "execute_result"
        }
      ],
      "source": [
        "huairou_df.head()"
      ]
    },
    {
      "cell_type": "code",
      "execution_count": 761,
      "metadata": {},
      "outputs": [
        {
          "data": {
            "text/html": [
              "<div>\n",
              "<style scoped>\n",
              "    .dataframe tbody tr th:only-of-type {\n",
              "        vertical-align: middle;\n",
              "    }\n",
              "\n",
              "    .dataframe tbody tr th {\n",
              "        vertical-align: top;\n",
              "    }\n",
              "\n",
              "    .dataframe thead th {\n",
              "        text-align: right;\n",
              "    }\n",
              "</style>\n",
              "<table border=\"1\" class=\"dataframe\">\n",
              "  <thead>\n",
              "    <tr style=\"text-align: right;\">\n",
              "      <th></th>\n",
              "      <th>No</th>\n",
              "      <th>year</th>\n",
              "      <th>month</th>\n",
              "      <th>day</th>\n",
              "      <th>hour</th>\n",
              "      <th>PM2.5</th>\n",
              "      <th>PM10</th>\n",
              "      <th>SO2</th>\n",
              "      <th>NO2</th>\n",
              "      <th>CO</th>\n",
              "      <th>O3</th>\n",
              "      <th>TEMP</th>\n",
              "      <th>PRES</th>\n",
              "      <th>DEWP</th>\n",
              "      <th>RAIN</th>\n",
              "      <th>wd</th>\n",
              "      <th>WSPM</th>\n",
              "      <th>station</th>\n",
              "    </tr>\n",
              "  </thead>\n",
              "  <tbody>\n",
              "    <tr>\n",
              "      <th>0</th>\n",
              "      <td>1</td>\n",
              "      <td>2013</td>\n",
              "      <td>3</td>\n",
              "      <td>1</td>\n",
              "      <td>0</td>\n",
              "      <td>5.0</td>\n",
              "      <td>14.0</td>\n",
              "      <td>4.0</td>\n",
              "      <td>12.0</td>\n",
              "      <td>200.0</td>\n",
              "      <td>85.0</td>\n",
              "      <td>-0.5</td>\n",
              "      <td>1024.5</td>\n",
              "      <td>-21.4</td>\n",
              "      <td>0.0</td>\n",
              "      <td>NNW</td>\n",
              "      <td>5.7</td>\n",
              "      <td>Nongzhanguan</td>\n",
              "    </tr>\n",
              "    <tr>\n",
              "      <th>1</th>\n",
              "      <td>2</td>\n",
              "      <td>2013</td>\n",
              "      <td>3</td>\n",
              "      <td>1</td>\n",
              "      <td>1</td>\n",
              "      <td>8.0</td>\n",
              "      <td>12.0</td>\n",
              "      <td>6.0</td>\n",
              "      <td>14.0</td>\n",
              "      <td>200.0</td>\n",
              "      <td>84.0</td>\n",
              "      <td>-0.7</td>\n",
              "      <td>1025.1</td>\n",
              "      <td>-22.1</td>\n",
              "      <td>0.0</td>\n",
              "      <td>NW</td>\n",
              "      <td>3.9</td>\n",
              "      <td>Nongzhanguan</td>\n",
              "    </tr>\n",
              "    <tr>\n",
              "      <th>2</th>\n",
              "      <td>3</td>\n",
              "      <td>2013</td>\n",
              "      <td>3</td>\n",
              "      <td>1</td>\n",
              "      <td>2</td>\n",
              "      <td>3.0</td>\n",
              "      <td>6.0</td>\n",
              "      <td>5.0</td>\n",
              "      <td>14.0</td>\n",
              "      <td>200.0</td>\n",
              "      <td>83.0</td>\n",
              "      <td>-1.2</td>\n",
              "      <td>1025.3</td>\n",
              "      <td>-24.6</td>\n",
              "      <td>0.0</td>\n",
              "      <td>NNW</td>\n",
              "      <td>5.3</td>\n",
              "      <td>Nongzhanguan</td>\n",
              "    </tr>\n",
              "    <tr>\n",
              "      <th>3</th>\n",
              "      <td>4</td>\n",
              "      <td>2013</td>\n",
              "      <td>3</td>\n",
              "      <td>1</td>\n",
              "      <td>3</td>\n",
              "      <td>5.0</td>\n",
              "      <td>5.0</td>\n",
              "      <td>5.0</td>\n",
              "      <td>14.0</td>\n",
              "      <td>200.0</td>\n",
              "      <td>84.0</td>\n",
              "      <td>-1.4</td>\n",
              "      <td>1026.2</td>\n",
              "      <td>-25.5</td>\n",
              "      <td>0.0</td>\n",
              "      <td>N</td>\n",
              "      <td>4.9</td>\n",
              "      <td>Nongzhanguan</td>\n",
              "    </tr>\n",
              "    <tr>\n",
              "      <th>4</th>\n",
              "      <td>5</td>\n",
              "      <td>2013</td>\n",
              "      <td>3</td>\n",
              "      <td>1</td>\n",
              "      <td>4</td>\n",
              "      <td>5.0</td>\n",
              "      <td>5.0</td>\n",
              "      <td>6.0</td>\n",
              "      <td>21.0</td>\n",
              "      <td>200.0</td>\n",
              "      <td>77.0</td>\n",
              "      <td>-1.9</td>\n",
              "      <td>1027.1</td>\n",
              "      <td>-24.5</td>\n",
              "      <td>0.0</td>\n",
              "      <td>NNW</td>\n",
              "      <td>3.2</td>\n",
              "      <td>Nongzhanguan</td>\n",
              "    </tr>\n",
              "  </tbody>\n",
              "</table>\n",
              "</div>"
            ],
            "text/plain": [
              "   No  year  month  day  hour  PM2.5  PM10  SO2   NO2     CO    O3  TEMP  \\\n",
              "0   1  2013      3    1     0    5.0  14.0  4.0  12.0  200.0  85.0  -0.5   \n",
              "1   2  2013      3    1     1    8.0  12.0  6.0  14.0  200.0  84.0  -0.7   \n",
              "2   3  2013      3    1     2    3.0   6.0  5.0  14.0  200.0  83.0  -1.2   \n",
              "3   4  2013      3    1     3    5.0   5.0  5.0  14.0  200.0  84.0  -1.4   \n",
              "4   5  2013      3    1     4    5.0   5.0  6.0  21.0  200.0  77.0  -1.9   \n",
              "\n",
              "     PRES  DEWP  RAIN   wd  WSPM       station  \n",
              "0  1024.5 -21.4   0.0  NNW   5.7  Nongzhanguan  \n",
              "1  1025.1 -22.1   0.0   NW   3.9  Nongzhanguan  \n",
              "2  1025.3 -24.6   0.0  NNW   5.3  Nongzhanguan  \n",
              "3  1026.2 -25.5   0.0    N   4.9  Nongzhanguan  \n",
              "4  1027.1 -24.5   0.0  NNW   3.2  Nongzhanguan  "
            ]
          },
          "execution_count": 761,
          "metadata": {},
          "output_type": "execute_result"
        }
      ],
      "source": [
        "nongzhanguan_df.head()"
      ]
    },
    {
      "cell_type": "code",
      "execution_count": 762,
      "metadata": {},
      "outputs": [
        {
          "data": {
            "text/html": [
              "<div>\n",
              "<style scoped>\n",
              "    .dataframe tbody tr th:only-of-type {\n",
              "        vertical-align: middle;\n",
              "    }\n",
              "\n",
              "    .dataframe tbody tr th {\n",
              "        vertical-align: top;\n",
              "    }\n",
              "\n",
              "    .dataframe thead th {\n",
              "        text-align: right;\n",
              "    }\n",
              "</style>\n",
              "<table border=\"1\" class=\"dataframe\">\n",
              "  <thead>\n",
              "    <tr style=\"text-align: right;\">\n",
              "      <th></th>\n",
              "      <th>No</th>\n",
              "      <th>year</th>\n",
              "      <th>month</th>\n",
              "      <th>day</th>\n",
              "      <th>hour</th>\n",
              "      <th>PM2.5</th>\n",
              "      <th>PM10</th>\n",
              "      <th>SO2</th>\n",
              "      <th>NO2</th>\n",
              "      <th>CO</th>\n",
              "      <th>O3</th>\n",
              "      <th>TEMP</th>\n",
              "      <th>PRES</th>\n",
              "      <th>DEWP</th>\n",
              "      <th>RAIN</th>\n",
              "      <th>wd</th>\n",
              "      <th>WSPM</th>\n",
              "      <th>station</th>\n",
              "    </tr>\n",
              "  </thead>\n",
              "  <tbody>\n",
              "    <tr>\n",
              "      <th>0</th>\n",
              "      <td>1</td>\n",
              "      <td>2013</td>\n",
              "      <td>3</td>\n",
              "      <td>1</td>\n",
              "      <td>0</td>\n",
              "      <td>3.0</td>\n",
              "      <td>6.0</td>\n",
              "      <td>3.0</td>\n",
              "      <td>8.0</td>\n",
              "      <td>300.0</td>\n",
              "      <td>44.0</td>\n",
              "      <td>-0.9</td>\n",
              "      <td>1025.8</td>\n",
              "      <td>-20.5</td>\n",
              "      <td>0.0</td>\n",
              "      <td>NW</td>\n",
              "      <td>9.3</td>\n",
              "      <td>Shunyi</td>\n",
              "    </tr>\n",
              "    <tr>\n",
              "      <th>1</th>\n",
              "      <td>2</td>\n",
              "      <td>2013</td>\n",
              "      <td>3</td>\n",
              "      <td>1</td>\n",
              "      <td>1</td>\n",
              "      <td>12.0</td>\n",
              "      <td>12.0</td>\n",
              "      <td>3.0</td>\n",
              "      <td>7.0</td>\n",
              "      <td>300.0</td>\n",
              "      <td>47.0</td>\n",
              "      <td>-1.1</td>\n",
              "      <td>1026.1</td>\n",
              "      <td>-21.3</td>\n",
              "      <td>0.0</td>\n",
              "      <td>NW</td>\n",
              "      <td>9.4</td>\n",
              "      <td>Shunyi</td>\n",
              "    </tr>\n",
              "    <tr>\n",
              "      <th>2</th>\n",
              "      <td>3</td>\n",
              "      <td>2013</td>\n",
              "      <td>3</td>\n",
              "      <td>1</td>\n",
              "      <td>2</td>\n",
              "      <td>14.0</td>\n",
              "      <td>14.0</td>\n",
              "      <td>NaN</td>\n",
              "      <td>7.0</td>\n",
              "      <td>200.0</td>\n",
              "      <td>22.0</td>\n",
              "      <td>-1.7</td>\n",
              "      <td>1026.2</td>\n",
              "      <td>-23.0</td>\n",
              "      <td>0.0</td>\n",
              "      <td>NW</td>\n",
              "      <td>8.6</td>\n",
              "      <td>Shunyi</td>\n",
              "    </tr>\n",
              "    <tr>\n",
              "      <th>3</th>\n",
              "      <td>4</td>\n",
              "      <td>2013</td>\n",
              "      <td>3</td>\n",
              "      <td>1</td>\n",
              "      <td>3</td>\n",
              "      <td>12.0</td>\n",
              "      <td>12.0</td>\n",
              "      <td>3.0</td>\n",
              "      <td>5.0</td>\n",
              "      <td>NaN</td>\n",
              "      <td>NaN</td>\n",
              "      <td>-2.1</td>\n",
              "      <td>1027.3</td>\n",
              "      <td>-23.3</td>\n",
              "      <td>0.0</td>\n",
              "      <td>NW</td>\n",
              "      <td>6.6</td>\n",
              "      <td>Shunyi</td>\n",
              "    </tr>\n",
              "    <tr>\n",
              "      <th>4</th>\n",
              "      <td>5</td>\n",
              "      <td>2013</td>\n",
              "      <td>3</td>\n",
              "      <td>1</td>\n",
              "      <td>4</td>\n",
              "      <td>12.0</td>\n",
              "      <td>12.0</td>\n",
              "      <td>3.0</td>\n",
              "      <td>NaN</td>\n",
              "      <td>200.0</td>\n",
              "      <td>11.0</td>\n",
              "      <td>-2.4</td>\n",
              "      <td>1027.7</td>\n",
              "      <td>-22.9</td>\n",
              "      <td>0.0</td>\n",
              "      <td>NW</td>\n",
              "      <td>4.5</td>\n",
              "      <td>Shunyi</td>\n",
              "    </tr>\n",
              "  </tbody>\n",
              "</table>\n",
              "</div>"
            ],
            "text/plain": [
              "   No  year  month  day  hour  PM2.5  PM10  SO2  NO2     CO    O3  TEMP  \\\n",
              "0   1  2013      3    1     0    3.0   6.0  3.0  8.0  300.0  44.0  -0.9   \n",
              "1   2  2013      3    1     1   12.0  12.0  3.0  7.0  300.0  47.0  -1.1   \n",
              "2   3  2013      3    1     2   14.0  14.0  NaN  7.0  200.0  22.0  -1.7   \n",
              "3   4  2013      3    1     3   12.0  12.0  3.0  5.0    NaN   NaN  -2.1   \n",
              "4   5  2013      3    1     4   12.0  12.0  3.0  NaN  200.0  11.0  -2.4   \n",
              "\n",
              "     PRES  DEWP  RAIN  wd  WSPM station  \n",
              "0  1025.8 -20.5   0.0  NW   9.3  Shunyi  \n",
              "1  1026.1 -21.3   0.0  NW   9.4  Shunyi  \n",
              "2  1026.2 -23.0   0.0  NW   8.6  Shunyi  \n",
              "3  1027.3 -23.3   0.0  NW   6.6  Shunyi  \n",
              "4  1027.7 -22.9   0.0  NW   4.5  Shunyi  "
            ]
          },
          "execution_count": 762,
          "metadata": {},
          "output_type": "execute_result"
        }
      ],
      "source": [
        "shunyi_df.head()"
      ]
    },
    {
      "cell_type": "code",
      "execution_count": 763,
      "metadata": {},
      "outputs": [
        {
          "data": {
            "text/html": [
              "<div>\n",
              "<style scoped>\n",
              "    .dataframe tbody tr th:only-of-type {\n",
              "        vertical-align: middle;\n",
              "    }\n",
              "\n",
              "    .dataframe tbody tr th {\n",
              "        vertical-align: top;\n",
              "    }\n",
              "\n",
              "    .dataframe thead th {\n",
              "        text-align: right;\n",
              "    }\n",
              "</style>\n",
              "<table border=\"1\" class=\"dataframe\">\n",
              "  <thead>\n",
              "    <tr style=\"text-align: right;\">\n",
              "      <th></th>\n",
              "      <th>No</th>\n",
              "      <th>year</th>\n",
              "      <th>month</th>\n",
              "      <th>day</th>\n",
              "      <th>hour</th>\n",
              "      <th>PM2.5</th>\n",
              "      <th>PM10</th>\n",
              "      <th>SO2</th>\n",
              "      <th>NO2</th>\n",
              "      <th>CO</th>\n",
              "      <th>O3</th>\n",
              "      <th>TEMP</th>\n",
              "      <th>PRES</th>\n",
              "      <th>DEWP</th>\n",
              "      <th>RAIN</th>\n",
              "      <th>wd</th>\n",
              "      <th>WSPM</th>\n",
              "      <th>station</th>\n",
              "    </tr>\n",
              "  </thead>\n",
              "  <tbody>\n",
              "    <tr>\n",
              "      <th>0</th>\n",
              "      <td>1</td>\n",
              "      <td>2013</td>\n",
              "      <td>3</td>\n",
              "      <td>1</td>\n",
              "      <td>0</td>\n",
              "      <td>6.0</td>\n",
              "      <td>6.0</td>\n",
              "      <td>4.0</td>\n",
              "      <td>8.0</td>\n",
              "      <td>300.0</td>\n",
              "      <td>81.0</td>\n",
              "      <td>-0.5</td>\n",
              "      <td>1024.5</td>\n",
              "      <td>-21.4</td>\n",
              "      <td>0.0</td>\n",
              "      <td>NNW</td>\n",
              "      <td>5.7</td>\n",
              "      <td>Tiantan</td>\n",
              "    </tr>\n",
              "    <tr>\n",
              "      <th>1</th>\n",
              "      <td>2</td>\n",
              "      <td>2013</td>\n",
              "      <td>3</td>\n",
              "      <td>1</td>\n",
              "      <td>1</td>\n",
              "      <td>6.0</td>\n",
              "      <td>29.0</td>\n",
              "      <td>5.0</td>\n",
              "      <td>9.0</td>\n",
              "      <td>300.0</td>\n",
              "      <td>80.0</td>\n",
              "      <td>-0.7</td>\n",
              "      <td>1025.1</td>\n",
              "      <td>-22.1</td>\n",
              "      <td>0.0</td>\n",
              "      <td>NW</td>\n",
              "      <td>3.9</td>\n",
              "      <td>Tiantan</td>\n",
              "    </tr>\n",
              "    <tr>\n",
              "      <th>2</th>\n",
              "      <td>3</td>\n",
              "      <td>2013</td>\n",
              "      <td>3</td>\n",
              "      <td>1</td>\n",
              "      <td>2</td>\n",
              "      <td>6.0</td>\n",
              "      <td>6.0</td>\n",
              "      <td>4.0</td>\n",
              "      <td>12.0</td>\n",
              "      <td>300.0</td>\n",
              "      <td>75.0</td>\n",
              "      <td>-1.2</td>\n",
              "      <td>1025.3</td>\n",
              "      <td>-24.6</td>\n",
              "      <td>0.0</td>\n",
              "      <td>NNW</td>\n",
              "      <td>5.3</td>\n",
              "      <td>Tiantan</td>\n",
              "    </tr>\n",
              "    <tr>\n",
              "      <th>3</th>\n",
              "      <td>4</td>\n",
              "      <td>2013</td>\n",
              "      <td>3</td>\n",
              "      <td>1</td>\n",
              "      <td>3</td>\n",
              "      <td>6.0</td>\n",
              "      <td>6.0</td>\n",
              "      <td>4.0</td>\n",
              "      <td>12.0</td>\n",
              "      <td>300.0</td>\n",
              "      <td>74.0</td>\n",
              "      <td>-1.4</td>\n",
              "      <td>1026.2</td>\n",
              "      <td>-25.5</td>\n",
              "      <td>0.0</td>\n",
              "      <td>N</td>\n",
              "      <td>4.9</td>\n",
              "      <td>Tiantan</td>\n",
              "    </tr>\n",
              "    <tr>\n",
              "      <th>4</th>\n",
              "      <td>5</td>\n",
              "      <td>2013</td>\n",
              "      <td>3</td>\n",
              "      <td>1</td>\n",
              "      <td>4</td>\n",
              "      <td>5.0</td>\n",
              "      <td>5.0</td>\n",
              "      <td>7.0</td>\n",
              "      <td>15.0</td>\n",
              "      <td>400.0</td>\n",
              "      <td>70.0</td>\n",
              "      <td>-1.9</td>\n",
              "      <td>1027.1</td>\n",
              "      <td>-24.5</td>\n",
              "      <td>0.0</td>\n",
              "      <td>NNW</td>\n",
              "      <td>3.2</td>\n",
              "      <td>Tiantan</td>\n",
              "    </tr>\n",
              "  </tbody>\n",
              "</table>\n",
              "</div>"
            ],
            "text/plain": [
              "   No  year  month  day  hour  PM2.5  PM10  SO2   NO2     CO    O3  TEMP  \\\n",
              "0   1  2013      3    1     0    6.0   6.0  4.0   8.0  300.0  81.0  -0.5   \n",
              "1   2  2013      3    1     1    6.0  29.0  5.0   9.0  300.0  80.0  -0.7   \n",
              "2   3  2013      3    1     2    6.0   6.0  4.0  12.0  300.0  75.0  -1.2   \n",
              "3   4  2013      3    1     3    6.0   6.0  4.0  12.0  300.0  74.0  -1.4   \n",
              "4   5  2013      3    1     4    5.0   5.0  7.0  15.0  400.0  70.0  -1.9   \n",
              "\n",
              "     PRES  DEWP  RAIN   wd  WSPM  station  \n",
              "0  1024.5 -21.4   0.0  NNW   5.7  Tiantan  \n",
              "1  1025.1 -22.1   0.0   NW   3.9  Tiantan  \n",
              "2  1025.3 -24.6   0.0  NNW   5.3  Tiantan  \n",
              "3  1026.2 -25.5   0.0    N   4.9  Tiantan  \n",
              "4  1027.1 -24.5   0.0  NNW   3.2  Tiantan  "
            ]
          },
          "execution_count": 763,
          "metadata": {},
          "output_type": "execute_result"
        }
      ],
      "source": [
        "tiantan_df.head()"
      ]
    },
    {
      "cell_type": "code",
      "execution_count": 764,
      "metadata": {},
      "outputs": [
        {
          "data": {
            "text/html": [
              "<div>\n",
              "<style scoped>\n",
              "    .dataframe tbody tr th:only-of-type {\n",
              "        vertical-align: middle;\n",
              "    }\n",
              "\n",
              "    .dataframe tbody tr th {\n",
              "        vertical-align: top;\n",
              "    }\n",
              "\n",
              "    .dataframe thead th {\n",
              "        text-align: right;\n",
              "    }\n",
              "</style>\n",
              "<table border=\"1\" class=\"dataframe\">\n",
              "  <thead>\n",
              "    <tr style=\"text-align: right;\">\n",
              "      <th></th>\n",
              "      <th>No</th>\n",
              "      <th>year</th>\n",
              "      <th>month</th>\n",
              "      <th>day</th>\n",
              "      <th>hour</th>\n",
              "      <th>PM2.5</th>\n",
              "      <th>PM10</th>\n",
              "      <th>SO2</th>\n",
              "      <th>NO2</th>\n",
              "      <th>CO</th>\n",
              "      <th>O3</th>\n",
              "      <th>TEMP</th>\n",
              "      <th>PRES</th>\n",
              "      <th>DEWP</th>\n",
              "      <th>RAIN</th>\n",
              "      <th>wd</th>\n",
              "      <th>WSPM</th>\n",
              "      <th>station</th>\n",
              "    </tr>\n",
              "  </thead>\n",
              "  <tbody>\n",
              "    <tr>\n",
              "      <th>0</th>\n",
              "      <td>1</td>\n",
              "      <td>2013</td>\n",
              "      <td>3</td>\n",
              "      <td>1</td>\n",
              "      <td>0</td>\n",
              "      <td>8.0</td>\n",
              "      <td>8.0</td>\n",
              "      <td>6.0</td>\n",
              "      <td>28.0</td>\n",
              "      <td>400.0</td>\n",
              "      <td>52.0</td>\n",
              "      <td>-0.7</td>\n",
              "      <td>1023.0</td>\n",
              "      <td>-18.8</td>\n",
              "      <td>0.0</td>\n",
              "      <td>NNW</td>\n",
              "      <td>4.4</td>\n",
              "      <td>Wanliu</td>\n",
              "    </tr>\n",
              "    <tr>\n",
              "      <th>1</th>\n",
              "      <td>2</td>\n",
              "      <td>2013</td>\n",
              "      <td>3</td>\n",
              "      <td>1</td>\n",
              "      <td>1</td>\n",
              "      <td>9.0</td>\n",
              "      <td>9.0</td>\n",
              "      <td>6.0</td>\n",
              "      <td>28.0</td>\n",
              "      <td>400.0</td>\n",
              "      <td>50.0</td>\n",
              "      <td>-1.1</td>\n",
              "      <td>1023.2</td>\n",
              "      <td>-18.2</td>\n",
              "      <td>0.0</td>\n",
              "      <td>N</td>\n",
              "      <td>4.7</td>\n",
              "      <td>Wanliu</td>\n",
              "    </tr>\n",
              "    <tr>\n",
              "      <th>2</th>\n",
              "      <td>3</td>\n",
              "      <td>2013</td>\n",
              "      <td>3</td>\n",
              "      <td>1</td>\n",
              "      <td>2</td>\n",
              "      <td>3.0</td>\n",
              "      <td>6.0</td>\n",
              "      <td>NaN</td>\n",
              "      <td>19.0</td>\n",
              "      <td>400.0</td>\n",
              "      <td>55.0</td>\n",
              "      <td>-1.1</td>\n",
              "      <td>1023.5</td>\n",
              "      <td>-18.2</td>\n",
              "      <td>0.0</td>\n",
              "      <td>NNW</td>\n",
              "      <td>5.6</td>\n",
              "      <td>Wanliu</td>\n",
              "    </tr>\n",
              "    <tr>\n",
              "      <th>3</th>\n",
              "      <td>4</td>\n",
              "      <td>2013</td>\n",
              "      <td>3</td>\n",
              "      <td>1</td>\n",
              "      <td>3</td>\n",
              "      <td>11.0</td>\n",
              "      <td>30.0</td>\n",
              "      <td>8.0</td>\n",
              "      <td>14.0</td>\n",
              "      <td>NaN</td>\n",
              "      <td>NaN</td>\n",
              "      <td>-1.4</td>\n",
              "      <td>1024.5</td>\n",
              "      <td>-19.4</td>\n",
              "      <td>0.0</td>\n",
              "      <td>NW</td>\n",
              "      <td>3.1</td>\n",
              "      <td>Wanliu</td>\n",
              "    </tr>\n",
              "    <tr>\n",
              "      <th>4</th>\n",
              "      <td>5</td>\n",
              "      <td>2013</td>\n",
              "      <td>3</td>\n",
              "      <td>1</td>\n",
              "      <td>4</td>\n",
              "      <td>3.0</td>\n",
              "      <td>13.0</td>\n",
              "      <td>9.0</td>\n",
              "      <td>NaN</td>\n",
              "      <td>300.0</td>\n",
              "      <td>54.0</td>\n",
              "      <td>-2.0</td>\n",
              "      <td>1025.2</td>\n",
              "      <td>-19.5</td>\n",
              "      <td>0.0</td>\n",
              "      <td>N</td>\n",
              "      <td>2.0</td>\n",
              "      <td>Wanliu</td>\n",
              "    </tr>\n",
              "  </tbody>\n",
              "</table>\n",
              "</div>"
            ],
            "text/plain": [
              "   No  year  month  day  hour  PM2.5  PM10  SO2   NO2     CO    O3  TEMP  \\\n",
              "0   1  2013      3    1     0    8.0   8.0  6.0  28.0  400.0  52.0  -0.7   \n",
              "1   2  2013      3    1     1    9.0   9.0  6.0  28.0  400.0  50.0  -1.1   \n",
              "2   3  2013      3    1     2    3.0   6.0  NaN  19.0  400.0  55.0  -1.1   \n",
              "3   4  2013      3    1     3   11.0  30.0  8.0  14.0    NaN   NaN  -1.4   \n",
              "4   5  2013      3    1     4    3.0  13.0  9.0   NaN  300.0  54.0  -2.0   \n",
              "\n",
              "     PRES  DEWP  RAIN   wd  WSPM station  \n",
              "0  1023.0 -18.8   0.0  NNW   4.4  Wanliu  \n",
              "1  1023.2 -18.2   0.0    N   4.7  Wanliu  \n",
              "2  1023.5 -18.2   0.0  NNW   5.6  Wanliu  \n",
              "3  1024.5 -19.4   0.0   NW   3.1  Wanliu  \n",
              "4  1025.2 -19.5   0.0    N   2.0  Wanliu  "
            ]
          },
          "execution_count": 764,
          "metadata": {},
          "output_type": "execute_result"
        }
      ],
      "source": [
        "wanliu_df.head()"
      ]
    },
    {
      "cell_type": "code",
      "execution_count": 765,
      "metadata": {},
      "outputs": [
        {
          "data": {
            "text/html": [
              "<div>\n",
              "<style scoped>\n",
              "    .dataframe tbody tr th:only-of-type {\n",
              "        vertical-align: middle;\n",
              "    }\n",
              "\n",
              "    .dataframe tbody tr th {\n",
              "        vertical-align: top;\n",
              "    }\n",
              "\n",
              "    .dataframe thead th {\n",
              "        text-align: right;\n",
              "    }\n",
              "</style>\n",
              "<table border=\"1\" class=\"dataframe\">\n",
              "  <thead>\n",
              "    <tr style=\"text-align: right;\">\n",
              "      <th></th>\n",
              "      <th>No</th>\n",
              "      <th>year</th>\n",
              "      <th>month</th>\n",
              "      <th>day</th>\n",
              "      <th>hour</th>\n",
              "      <th>PM2.5</th>\n",
              "      <th>PM10</th>\n",
              "      <th>SO2</th>\n",
              "      <th>NO2</th>\n",
              "      <th>CO</th>\n",
              "      <th>O3</th>\n",
              "      <th>TEMP</th>\n",
              "      <th>PRES</th>\n",
              "      <th>DEWP</th>\n",
              "      <th>RAIN</th>\n",
              "      <th>wd</th>\n",
              "      <th>WSPM</th>\n",
              "      <th>station</th>\n",
              "    </tr>\n",
              "  </thead>\n",
              "  <tbody>\n",
              "    <tr>\n",
              "      <th>0</th>\n",
              "      <td>1</td>\n",
              "      <td>2013</td>\n",
              "      <td>3</td>\n",
              "      <td>1</td>\n",
              "      <td>0</td>\n",
              "      <td>9.0</td>\n",
              "      <td>9.0</td>\n",
              "      <td>6.0</td>\n",
              "      <td>17.0</td>\n",
              "      <td>200.0</td>\n",
              "      <td>62.0</td>\n",
              "      <td>0.3</td>\n",
              "      <td>1021.9</td>\n",
              "      <td>-19.0</td>\n",
              "      <td>0.0</td>\n",
              "      <td>WNW</td>\n",
              "      <td>2.0</td>\n",
              "      <td>Wanshouxigong</td>\n",
              "    </tr>\n",
              "    <tr>\n",
              "      <th>1</th>\n",
              "      <td>2</td>\n",
              "      <td>2013</td>\n",
              "      <td>3</td>\n",
              "      <td>1</td>\n",
              "      <td>1</td>\n",
              "      <td>11.0</td>\n",
              "      <td>11.0</td>\n",
              "      <td>7.0</td>\n",
              "      <td>14.0</td>\n",
              "      <td>200.0</td>\n",
              "      <td>66.0</td>\n",
              "      <td>-0.1</td>\n",
              "      <td>1022.4</td>\n",
              "      <td>-19.3</td>\n",
              "      <td>0.0</td>\n",
              "      <td>WNW</td>\n",
              "      <td>4.4</td>\n",
              "      <td>Wanshouxigong</td>\n",
              "    </tr>\n",
              "    <tr>\n",
              "      <th>2</th>\n",
              "      <td>3</td>\n",
              "      <td>2013</td>\n",
              "      <td>3</td>\n",
              "      <td>1</td>\n",
              "      <td>2</td>\n",
              "      <td>8.0</td>\n",
              "      <td>8.0</td>\n",
              "      <td>NaN</td>\n",
              "      <td>16.0</td>\n",
              "      <td>200.0</td>\n",
              "      <td>59.0</td>\n",
              "      <td>-0.6</td>\n",
              "      <td>1022.6</td>\n",
              "      <td>-19.7</td>\n",
              "      <td>0.0</td>\n",
              "      <td>WNW</td>\n",
              "      <td>4.7</td>\n",
              "      <td>Wanshouxigong</td>\n",
              "    </tr>\n",
              "    <tr>\n",
              "      <th>3</th>\n",
              "      <td>4</td>\n",
              "      <td>2013</td>\n",
              "      <td>3</td>\n",
              "      <td>1</td>\n",
              "      <td>3</td>\n",
              "      <td>8.0</td>\n",
              "      <td>8.0</td>\n",
              "      <td>3.0</td>\n",
              "      <td>16.0</td>\n",
              "      <td>NaN</td>\n",
              "      <td>NaN</td>\n",
              "      <td>-0.7</td>\n",
              "      <td>1023.5</td>\n",
              "      <td>-20.9</td>\n",
              "      <td>0.0</td>\n",
              "      <td>NW</td>\n",
              "      <td>2.6</td>\n",
              "      <td>Wanshouxigong</td>\n",
              "    </tr>\n",
              "    <tr>\n",
              "      <th>4</th>\n",
              "      <td>5</td>\n",
              "      <td>2013</td>\n",
              "      <td>3</td>\n",
              "      <td>1</td>\n",
              "      <td>4</td>\n",
              "      <td>8.0</td>\n",
              "      <td>8.0</td>\n",
              "      <td>3.0</td>\n",
              "      <td>NaN</td>\n",
              "      <td>300.0</td>\n",
              "      <td>36.0</td>\n",
              "      <td>-0.9</td>\n",
              "      <td>1024.1</td>\n",
              "      <td>-21.7</td>\n",
              "      <td>0.0</td>\n",
              "      <td>WNW</td>\n",
              "      <td>2.5</td>\n",
              "      <td>Wanshouxigong</td>\n",
              "    </tr>\n",
              "  </tbody>\n",
              "</table>\n",
              "</div>"
            ],
            "text/plain": [
              "   No  year  month  day  hour  PM2.5  PM10  SO2   NO2     CO    O3  TEMP  \\\n",
              "0   1  2013      3    1     0    9.0   9.0  6.0  17.0  200.0  62.0   0.3   \n",
              "1   2  2013      3    1     1   11.0  11.0  7.0  14.0  200.0  66.0  -0.1   \n",
              "2   3  2013      3    1     2    8.0   8.0  NaN  16.0  200.0  59.0  -0.6   \n",
              "3   4  2013      3    1     3    8.0   8.0  3.0  16.0    NaN   NaN  -0.7   \n",
              "4   5  2013      3    1     4    8.0   8.0  3.0   NaN  300.0  36.0  -0.9   \n",
              "\n",
              "     PRES  DEWP  RAIN   wd  WSPM        station  \n",
              "0  1021.9 -19.0   0.0  WNW   2.0  Wanshouxigong  \n",
              "1  1022.4 -19.3   0.0  WNW   4.4  Wanshouxigong  \n",
              "2  1022.6 -19.7   0.0  WNW   4.7  Wanshouxigong  \n",
              "3  1023.5 -20.9   0.0   NW   2.6  Wanshouxigong  \n",
              "4  1024.1 -21.7   0.0  WNW   2.5  Wanshouxigong  "
            ]
          },
          "execution_count": 765,
          "metadata": {},
          "output_type": "execute_result"
        }
      ],
      "source": [
        "wanshouxigong_df.head()"
      ]
    },
    {
      "cell_type": "code",
      "execution_count": 766,
      "metadata": {},
      "outputs": [
        {
          "data": {
            "text/html": [
              "<div>\n",
              "<style scoped>\n",
              "    .dataframe tbody tr th:only-of-type {\n",
              "        vertical-align: middle;\n",
              "    }\n",
              "\n",
              "    .dataframe tbody tr th {\n",
              "        vertical-align: top;\n",
              "    }\n",
              "\n",
              "    .dataframe thead th {\n",
              "        text-align: right;\n",
              "    }\n",
              "</style>\n",
              "<table border=\"1\" class=\"dataframe\">\n",
              "  <thead>\n",
              "    <tr style=\"text-align: right;\">\n",
              "      <th></th>\n",
              "      <th>No</th>\n",
              "      <th>year</th>\n",
              "      <th>month</th>\n",
              "      <th>day</th>\n",
              "      <th>hour</th>\n",
              "      <th>PM2.5</th>\n",
              "      <th>PM10</th>\n",
              "      <th>SO2</th>\n",
              "      <th>NO2</th>\n",
              "      <th>CO</th>\n",
              "      <th>O3</th>\n",
              "      <th>TEMP</th>\n",
              "      <th>PRES</th>\n",
              "      <th>DEWP</th>\n",
              "      <th>RAIN</th>\n",
              "      <th>wd</th>\n",
              "      <th>WSPM</th>\n",
              "      <th>station</th>\n",
              "    </tr>\n",
              "  </thead>\n",
              "  <tbody>\n",
              "    <tr>\n",
              "      <th>0</th>\n",
              "      <td>1</td>\n",
              "      <td>2013</td>\n",
              "      <td>3</td>\n",
              "      <td>1</td>\n",
              "      <td>0</td>\n",
              "      <td>5.0</td>\n",
              "      <td>14.0</td>\n",
              "      <td>4.0</td>\n",
              "      <td>12.0</td>\n",
              "      <td>200.0</td>\n",
              "      <td>85.0</td>\n",
              "      <td>-0.5</td>\n",
              "      <td>1024.5</td>\n",
              "      <td>-21.4</td>\n",
              "      <td>0.0</td>\n",
              "      <td>NNW</td>\n",
              "      <td>5.7</td>\n",
              "      <td>Nongzhanguan</td>\n",
              "    </tr>\n",
              "    <tr>\n",
              "      <th>1</th>\n",
              "      <td>2</td>\n",
              "      <td>2013</td>\n",
              "      <td>3</td>\n",
              "      <td>1</td>\n",
              "      <td>1</td>\n",
              "      <td>8.0</td>\n",
              "      <td>12.0</td>\n",
              "      <td>6.0</td>\n",
              "      <td>14.0</td>\n",
              "      <td>200.0</td>\n",
              "      <td>84.0</td>\n",
              "      <td>-0.7</td>\n",
              "      <td>1025.1</td>\n",
              "      <td>-22.1</td>\n",
              "      <td>0.0</td>\n",
              "      <td>NW</td>\n",
              "      <td>3.9</td>\n",
              "      <td>Nongzhanguan</td>\n",
              "    </tr>\n",
              "    <tr>\n",
              "      <th>2</th>\n",
              "      <td>3</td>\n",
              "      <td>2013</td>\n",
              "      <td>3</td>\n",
              "      <td>1</td>\n",
              "      <td>2</td>\n",
              "      <td>3.0</td>\n",
              "      <td>6.0</td>\n",
              "      <td>5.0</td>\n",
              "      <td>14.0</td>\n",
              "      <td>200.0</td>\n",
              "      <td>83.0</td>\n",
              "      <td>-1.2</td>\n",
              "      <td>1025.3</td>\n",
              "      <td>-24.6</td>\n",
              "      <td>0.0</td>\n",
              "      <td>NNW</td>\n",
              "      <td>5.3</td>\n",
              "      <td>Nongzhanguan</td>\n",
              "    </tr>\n",
              "    <tr>\n",
              "      <th>3</th>\n",
              "      <td>4</td>\n",
              "      <td>2013</td>\n",
              "      <td>3</td>\n",
              "      <td>1</td>\n",
              "      <td>3</td>\n",
              "      <td>5.0</td>\n",
              "      <td>5.0</td>\n",
              "      <td>5.0</td>\n",
              "      <td>14.0</td>\n",
              "      <td>200.0</td>\n",
              "      <td>84.0</td>\n",
              "      <td>-1.4</td>\n",
              "      <td>1026.2</td>\n",
              "      <td>-25.5</td>\n",
              "      <td>0.0</td>\n",
              "      <td>N</td>\n",
              "      <td>4.9</td>\n",
              "      <td>Nongzhanguan</td>\n",
              "    </tr>\n",
              "    <tr>\n",
              "      <th>4</th>\n",
              "      <td>5</td>\n",
              "      <td>2013</td>\n",
              "      <td>3</td>\n",
              "      <td>1</td>\n",
              "      <td>4</td>\n",
              "      <td>5.0</td>\n",
              "      <td>5.0</td>\n",
              "      <td>6.0</td>\n",
              "      <td>21.0</td>\n",
              "      <td>200.0</td>\n",
              "      <td>77.0</td>\n",
              "      <td>-1.9</td>\n",
              "      <td>1027.1</td>\n",
              "      <td>-24.5</td>\n",
              "      <td>0.0</td>\n",
              "      <td>NNW</td>\n",
              "      <td>3.2</td>\n",
              "      <td>Nongzhanguan</td>\n",
              "    </tr>\n",
              "  </tbody>\n",
              "</table>\n",
              "</div>"
            ],
            "text/plain": [
              "   No  year  month  day  hour  PM2.5  PM10  SO2   NO2     CO    O3  TEMP  \\\n",
              "0   1  2013      3    1     0    5.0  14.0  4.0  12.0  200.0  85.0  -0.5   \n",
              "1   2  2013      3    1     1    8.0  12.0  6.0  14.0  200.0  84.0  -0.7   \n",
              "2   3  2013      3    1     2    3.0   6.0  5.0  14.0  200.0  83.0  -1.2   \n",
              "3   4  2013      3    1     3    5.0   5.0  5.0  14.0  200.0  84.0  -1.4   \n",
              "4   5  2013      3    1     4    5.0   5.0  6.0  21.0  200.0  77.0  -1.9   \n",
              "\n",
              "     PRES  DEWP  RAIN   wd  WSPM       station  \n",
              "0  1024.5 -21.4   0.0  NNW   5.7  Nongzhanguan  \n",
              "1  1025.1 -22.1   0.0   NW   3.9  Nongzhanguan  \n",
              "2  1025.3 -24.6   0.0  NNW   5.3  Nongzhanguan  \n",
              "3  1026.2 -25.5   0.0    N   4.9  Nongzhanguan  \n",
              "4  1027.1 -24.5   0.0  NNW   3.2  Nongzhanguan  "
            ]
          },
          "execution_count": 766,
          "metadata": {},
          "output_type": "execute_result"
        }
      ],
      "source": [
        "nongzhanguan_df.head()"
      ]
    },
    {
      "cell_type": "markdown",
      "metadata": {
        "id": "MMi6xGaDkbCi"
      },
      "source": [
        "**Insight:**\n",
        "- Dataset memiliki beberapa kolom, yaitu year, month, day, hour, PM2.5, PM10, SO2, CO, O3, TEMP, PRES, DEWP, RAIN, wd, WSPM, dan Station"
      ]
    },
    {
      "cell_type": "markdown",
      "metadata": {
        "id": "FHSiqaZp8DC1"
      },
      "source": [
        "### Assessing Data"
      ]
    },
    {
      "cell_type": "markdown",
      "metadata": {},
      "source": [
        "Dataframe dari masing-masing wilayah akan dinilai dari sisi kualitas dari seluruh data yang akan digunakan. Setiap dataframe akan diperiksa informasinya, diperiksa apakah ada bagian data yang kosong, dan diperiksa apakah ada data duplikat."
      ]
    },
    {
      "cell_type": "markdown",
      "metadata": {},
      "source": [
        "#### Aotizhongxin"
      ]
    },
    {
      "cell_type": "markdown",
      "metadata": {},
      "source": [
        "Periksa informasi menggunakan fungsi `info()`"
      ]
    },
    {
      "cell_type": "code",
      "execution_count": 767,
      "metadata": {
        "id": "ax-3tEjc9Cj1"
      },
      "outputs": [
        {
          "name": "stdout",
          "output_type": "stream",
          "text": [
            "<class 'pandas.core.frame.DataFrame'>\n",
            "RangeIndex: 35064 entries, 0 to 35063\n",
            "Data columns (total 18 columns):\n",
            " #   Column   Non-Null Count  Dtype  \n",
            "---  ------   --------------  -----  \n",
            " 0   No       35064 non-null  int64  \n",
            " 1   year     35064 non-null  int64  \n",
            " 2   month    35064 non-null  int64  \n",
            " 3   day      35064 non-null  int64  \n",
            " 4   hour     35064 non-null  int64  \n",
            " 5   PM2.5    34139 non-null  float64\n",
            " 6   PM10     34346 non-null  float64\n",
            " 7   SO2      34129 non-null  float64\n",
            " 8   NO2      34041 non-null  float64\n",
            " 9   CO       33288 non-null  float64\n",
            " 10  O3       33345 non-null  float64\n",
            " 11  TEMP     35044 non-null  float64\n",
            " 12  PRES     35044 non-null  float64\n",
            " 13  DEWP     35044 non-null  float64\n",
            " 14  RAIN     35044 non-null  float64\n",
            " 15  wd       34983 non-null  object \n",
            " 16  WSPM     35050 non-null  float64\n",
            " 17  station  35064 non-null  object \n",
            "dtypes: float64(11), int64(5), object(2)\n",
            "memory usage: 4.8+ MB\n"
          ]
        }
      ],
      "source": [
        "aotizhongxin_df.info()"
      ]
    },
    {
      "cell_type": "markdown",
      "metadata": {},
      "source": [
        "Periksa apakah ada bagian data yang kosong menggunakan fungsi `isna()`"
      ]
    },
    {
      "cell_type": "code",
      "execution_count": 768,
      "metadata": {},
      "outputs": [
        {
          "data": {
            "text/plain": [
              "No            0\n",
              "year          0\n",
              "month         0\n",
              "day           0\n",
              "hour          0\n",
              "PM2.5       925\n",
              "PM10        718\n",
              "SO2         935\n",
              "NO2        1023\n",
              "CO         1776\n",
              "O3         1719\n",
              "TEMP         20\n",
              "PRES         20\n",
              "DEWP         20\n",
              "RAIN         20\n",
              "wd           81\n",
              "WSPM         14\n",
              "station       0\n",
              "dtype: int64"
            ]
          },
          "execution_count": 768,
          "metadata": {},
          "output_type": "execute_result"
        }
      ],
      "source": [
        "aotizhongxin_df.isna().sum()"
      ]
    },
    {
      "cell_type": "markdown",
      "metadata": {},
      "source": [
        "Periksa apakah ada data yang terduplikasi menggunakan fungsi `duplicated()`"
      ]
    },
    {
      "cell_type": "code",
      "execution_count": 769,
      "metadata": {},
      "outputs": [
        {
          "data": {
            "text/plain": [
              "0"
            ]
          },
          "execution_count": 769,
          "metadata": {},
          "output_type": "execute_result"
        }
      ],
      "source": [
        "aotizhongxin_df.duplicated().sum()"
      ]
    },
    {
      "cell_type": "markdown",
      "metadata": {},
      "source": [
        "#### Changping"
      ]
    },
    {
      "cell_type": "markdown",
      "metadata": {},
      "source": [
        "Periksa informasi menggunakan fungsi `info()`"
      ]
    },
    {
      "cell_type": "code",
      "execution_count": 770,
      "metadata": {},
      "outputs": [
        {
          "name": "stdout",
          "output_type": "stream",
          "text": [
            "<class 'pandas.core.frame.DataFrame'>\n",
            "RangeIndex: 35064 entries, 0 to 35063\n",
            "Data columns (total 18 columns):\n",
            " #   Column   Non-Null Count  Dtype  \n",
            "---  ------   --------------  -----  \n",
            " 0   No       35064 non-null  int64  \n",
            " 1   year     35064 non-null  int64  \n",
            " 2   month    35064 non-null  int64  \n",
            " 3   day      35064 non-null  int64  \n",
            " 4   hour     35064 non-null  int64  \n",
            " 5   PM2.5    34290 non-null  float64\n",
            " 6   PM10     34482 non-null  float64\n",
            " 7   SO2      34436 non-null  float64\n",
            " 8   NO2      34397 non-null  float64\n",
            " 9   CO       33543 non-null  float64\n",
            " 10  O3       34460 non-null  float64\n",
            " 11  TEMP     35011 non-null  float64\n",
            " 12  PRES     35014 non-null  float64\n",
            " 13  DEWP     35011 non-null  float64\n",
            " 14  RAIN     35013 non-null  float64\n",
            " 15  wd       34924 non-null  object \n",
            " 16  WSPM     35021 non-null  float64\n",
            " 17  station  35064 non-null  object \n",
            "dtypes: float64(11), int64(5), object(2)\n",
            "memory usage: 4.8+ MB\n"
          ]
        }
      ],
      "source": [
        "changping_df.info()"
      ]
    },
    {
      "cell_type": "markdown",
      "metadata": {},
      "source": [
        "Periksa apakah ada bagian data yang kosong menggunakan fungsi `isna()`"
      ]
    },
    {
      "cell_type": "code",
      "execution_count": 771,
      "metadata": {},
      "outputs": [
        {
          "data": {
            "text/plain": [
              "No            0\n",
              "year          0\n",
              "month         0\n",
              "day           0\n",
              "hour          0\n",
              "PM2.5       774\n",
              "PM10        582\n",
              "SO2         628\n",
              "NO2         667\n",
              "CO         1521\n",
              "O3          604\n",
              "TEMP         53\n",
              "PRES         50\n",
              "DEWP         53\n",
              "RAIN         51\n",
              "wd          140\n",
              "WSPM         43\n",
              "station       0\n",
              "dtype: int64"
            ]
          },
          "execution_count": 771,
          "metadata": {},
          "output_type": "execute_result"
        }
      ],
      "source": [
        "changping_df.isna().sum()"
      ]
    },
    {
      "cell_type": "markdown",
      "metadata": {},
      "source": [
        "Periksa apakah ada data yang terduplikasi menggunakan fungsi `duplicated()`"
      ]
    },
    {
      "cell_type": "code",
      "execution_count": 772,
      "metadata": {},
      "outputs": [
        {
          "data": {
            "text/plain": [
              "0"
            ]
          },
          "execution_count": 772,
          "metadata": {},
          "output_type": "execute_result"
        }
      ],
      "source": [
        "changping_df.duplicated().sum()"
      ]
    },
    {
      "cell_type": "markdown",
      "metadata": {},
      "source": [
        "#### Dingling"
      ]
    },
    {
      "cell_type": "markdown",
      "metadata": {},
      "source": [
        "Periksa informasi menggunakan fungsi `info()`"
      ]
    },
    {
      "cell_type": "code",
      "execution_count": 773,
      "metadata": {},
      "outputs": [
        {
          "name": "stdout",
          "output_type": "stream",
          "text": [
            "<class 'pandas.core.frame.DataFrame'>\n",
            "RangeIndex: 35064 entries, 0 to 35063\n",
            "Data columns (total 18 columns):\n",
            " #   Column   Non-Null Count  Dtype  \n",
            "---  ------   --------------  -----  \n",
            " 0   No       35064 non-null  int64  \n",
            " 1   year     35064 non-null  int64  \n",
            " 2   month    35064 non-null  int64  \n",
            " 3   day      35064 non-null  int64  \n",
            " 4   hour     35064 non-null  int64  \n",
            " 5   PM2.5    34285 non-null  float64\n",
            " 6   PM10     34408 non-null  float64\n",
            " 7   SO2      34334 non-null  float64\n",
            " 8   NO2      33830 non-null  float64\n",
            " 9   CO       33052 non-null  float64\n",
            " 10  O3       33850 non-null  float64\n",
            " 11  TEMP     35011 non-null  float64\n",
            " 12  PRES     35014 non-null  float64\n",
            " 13  DEWP     35011 non-null  float64\n",
            " 14  RAIN     35013 non-null  float64\n",
            " 15  wd       34924 non-null  object \n",
            " 16  WSPM     35021 non-null  float64\n",
            " 17  station  35064 non-null  object \n",
            "dtypes: float64(11), int64(5), object(2)\n",
            "memory usage: 4.8+ MB\n"
          ]
        }
      ],
      "source": [
        "dingling_df.info()"
      ]
    },
    {
      "cell_type": "markdown",
      "metadata": {},
      "source": [
        "Periksa apakah ada bagian data yang kosong menggunakan fungsi `isna()`"
      ]
    },
    {
      "cell_type": "code",
      "execution_count": 774,
      "metadata": {},
      "outputs": [
        {
          "data": {
            "text/plain": [
              "No            0\n",
              "year          0\n",
              "month         0\n",
              "day           0\n",
              "hour          0\n",
              "PM2.5       779\n",
              "PM10        656\n",
              "SO2         730\n",
              "NO2        1234\n",
              "CO         2012\n",
              "O3         1214\n",
              "TEMP         53\n",
              "PRES         50\n",
              "DEWP         53\n",
              "RAIN         51\n",
              "wd          140\n",
              "WSPM         43\n",
              "station       0\n",
              "dtype: int64"
            ]
          },
          "execution_count": 774,
          "metadata": {},
          "output_type": "execute_result"
        }
      ],
      "source": [
        "dingling_df.isna().sum()"
      ]
    },
    {
      "cell_type": "markdown",
      "metadata": {},
      "source": [
        "Periksa apakah ada data yang terduplikasi menggunakan fungsi `duplicated()`"
      ]
    },
    {
      "cell_type": "code",
      "execution_count": 775,
      "metadata": {},
      "outputs": [
        {
          "data": {
            "text/plain": [
              "0"
            ]
          },
          "execution_count": 775,
          "metadata": {},
          "output_type": "execute_result"
        }
      ],
      "source": [
        "dingling_df.duplicated().sum()"
      ]
    },
    {
      "cell_type": "markdown",
      "metadata": {},
      "source": [
        "#### Dongsi"
      ]
    },
    {
      "cell_type": "markdown",
      "metadata": {},
      "source": [
        "Periksa informasi menggunakan fungsi `info()`"
      ]
    },
    {
      "cell_type": "code",
      "execution_count": 776,
      "metadata": {},
      "outputs": [
        {
          "name": "stdout",
          "output_type": "stream",
          "text": [
            "<class 'pandas.core.frame.DataFrame'>\n",
            "RangeIndex: 35064 entries, 0 to 35063\n",
            "Data columns (total 18 columns):\n",
            " #   Column   Non-Null Count  Dtype  \n",
            "---  ------   --------------  -----  \n",
            " 0   No       35064 non-null  int64  \n",
            " 1   year     35064 non-null  int64  \n",
            " 2   month    35064 non-null  int64  \n",
            " 3   day      35064 non-null  int64  \n",
            " 4   hour     35064 non-null  int64  \n",
            " 5   PM2.5    34314 non-null  float64\n",
            " 6   PM10     34511 non-null  float64\n",
            " 7   SO2      34401 non-null  float64\n",
            " 8   NO2      33463 non-null  float64\n",
            " 9   CO       31867 non-null  float64\n",
            " 10  O3       34400 non-null  float64\n",
            " 11  TEMP     35044 non-null  float64\n",
            " 12  PRES     35044 non-null  float64\n",
            " 13  DEWP     35044 non-null  float64\n",
            " 14  RAIN     35044 non-null  float64\n",
            " 15  wd       34986 non-null  object \n",
            " 16  WSPM     35050 non-null  float64\n",
            " 17  station  35064 non-null  object \n",
            "dtypes: float64(11), int64(5), object(2)\n",
            "memory usage: 4.8+ MB\n"
          ]
        }
      ],
      "source": [
        "dongsi_df.info()"
      ]
    },
    {
      "cell_type": "markdown",
      "metadata": {},
      "source": [
        "Periksa apakah ada bagian data yang kosong menggunakan fungsi `isna()`"
      ]
    },
    {
      "cell_type": "code",
      "execution_count": 777,
      "metadata": {},
      "outputs": [
        {
          "data": {
            "text/plain": [
              "No            0\n",
              "year          0\n",
              "month         0\n",
              "day           0\n",
              "hour          0\n",
              "PM2.5       750\n",
              "PM10        553\n",
              "SO2         663\n",
              "NO2        1601\n",
              "CO         3197\n",
              "O3          664\n",
              "TEMP         20\n",
              "PRES         20\n",
              "DEWP         20\n",
              "RAIN         20\n",
              "wd           78\n",
              "WSPM         14\n",
              "station       0\n",
              "dtype: int64"
            ]
          },
          "execution_count": 777,
          "metadata": {},
          "output_type": "execute_result"
        }
      ],
      "source": [
        "dongsi_df.isna().sum()"
      ]
    },
    {
      "cell_type": "markdown",
      "metadata": {},
      "source": [
        "Periksa apakah ada data yang terduplikasi menggunakan fungsi `duplicated()`"
      ]
    },
    {
      "cell_type": "code",
      "execution_count": 778,
      "metadata": {},
      "outputs": [
        {
          "data": {
            "text/plain": [
              "0"
            ]
          },
          "execution_count": 778,
          "metadata": {},
          "output_type": "execute_result"
        }
      ],
      "source": [
        "dongsi_df.duplicated().sum()"
      ]
    },
    {
      "cell_type": "markdown",
      "metadata": {},
      "source": [
        "#### Guanyuan"
      ]
    },
    {
      "cell_type": "markdown",
      "metadata": {},
      "source": [
        "Periksa informasi menggunakan fungsi `info()`"
      ]
    },
    {
      "cell_type": "code",
      "execution_count": 779,
      "metadata": {},
      "outputs": [
        {
          "name": "stdout",
          "output_type": "stream",
          "text": [
            "<class 'pandas.core.frame.DataFrame'>\n",
            "RangeIndex: 35064 entries, 0 to 35063\n",
            "Data columns (total 18 columns):\n",
            " #   Column   Non-Null Count  Dtype  \n",
            "---  ------   --------------  -----  \n",
            " 0   No       35064 non-null  int64  \n",
            " 1   year     35064 non-null  int64  \n",
            " 2   month    35064 non-null  int64  \n",
            " 3   day      35064 non-null  int64  \n",
            " 4   hour     35064 non-null  int64  \n",
            " 5   PM2.5    34448 non-null  float64\n",
            " 6   PM10     34635 non-null  float64\n",
            " 7   SO2      34590 non-null  float64\n",
            " 8   NO2      34405 non-null  float64\n",
            " 9   CO       33311 non-null  float64\n",
            " 10  O3       33891 non-null  float64\n",
            " 11  TEMP     35044 non-null  float64\n",
            " 12  PRES     35044 non-null  float64\n",
            " 13  DEWP     35044 non-null  float64\n",
            " 14  RAIN     35044 non-null  float64\n",
            " 15  wd       34983 non-null  object \n",
            " 16  WSPM     35050 non-null  float64\n",
            " 17  station  35064 non-null  object \n",
            "dtypes: float64(11), int64(5), object(2)\n",
            "memory usage: 4.8+ MB\n"
          ]
        }
      ],
      "source": [
        "guanyuan_df.info()"
      ]
    },
    {
      "cell_type": "markdown",
      "metadata": {},
      "source": [
        "Periksa apakah ada bagian data yang kosong menggunakan fungsi `isna()`"
      ]
    },
    {
      "cell_type": "code",
      "execution_count": 780,
      "metadata": {},
      "outputs": [
        {
          "data": {
            "text/plain": [
              "No            0\n",
              "year          0\n",
              "month         0\n",
              "day           0\n",
              "hour          0\n",
              "PM2.5       616\n",
              "PM10        429\n",
              "SO2         474\n",
              "NO2         659\n",
              "CO         1753\n",
              "O3         1173\n",
              "TEMP         20\n",
              "PRES         20\n",
              "DEWP         20\n",
              "RAIN         20\n",
              "wd           81\n",
              "WSPM         14\n",
              "station       0\n",
              "dtype: int64"
            ]
          },
          "execution_count": 780,
          "metadata": {},
          "output_type": "execute_result"
        }
      ],
      "source": [
        "guanyuan_df.isna().sum()"
      ]
    },
    {
      "cell_type": "markdown",
      "metadata": {},
      "source": [
        "Periksa apakah ada data yang terduplikasi menggunakan fungsi `duplicated()`"
      ]
    },
    {
      "cell_type": "code",
      "execution_count": 781,
      "metadata": {},
      "outputs": [
        {
          "data": {
            "text/plain": [
              "0"
            ]
          },
          "execution_count": 781,
          "metadata": {},
          "output_type": "execute_result"
        }
      ],
      "source": [
        "guanyuan_df.duplicated().sum()"
      ]
    },
    {
      "cell_type": "markdown",
      "metadata": {},
      "source": [
        "#### Huairou"
      ]
    },
    {
      "cell_type": "markdown",
      "metadata": {},
      "source": [
        "Periksa informasi menggunakan fungsi `info()`"
      ]
    },
    {
      "cell_type": "code",
      "execution_count": 782,
      "metadata": {},
      "outputs": [
        {
          "name": "stdout",
          "output_type": "stream",
          "text": [
            "<class 'pandas.core.frame.DataFrame'>\n",
            "RangeIndex: 35064 entries, 0 to 35063\n",
            "Data columns (total 18 columns):\n",
            " #   Column   Non-Null Count  Dtype  \n",
            "---  ------   --------------  -----  \n",
            " 0   No       35064 non-null  int64  \n",
            " 1   year     35064 non-null  int64  \n",
            " 2   month    35064 non-null  int64  \n",
            " 3   day      35064 non-null  int64  \n",
            " 4   hour     35064 non-null  int64  \n",
            " 5   PM2.5    34111 non-null  float64\n",
            " 6   PM10     34287 non-null  float64\n",
            " 7   SO2      34084 non-null  float64\n",
            " 8   NO2      33425 non-null  float64\n",
            " 9   CO       33642 non-null  float64\n",
            " 10  O3       33913 non-null  float64\n",
            " 11  TEMP     35013 non-null  float64\n",
            " 12  PRES     35011 non-null  float64\n",
            " 13  DEWP     35011 non-null  float64\n",
            " 14  RAIN     35009 non-null  float64\n",
            " 15  wd       34762 non-null  object \n",
            " 16  WSPM     35015 non-null  float64\n",
            " 17  station  35064 non-null  object \n",
            "dtypes: float64(11), int64(5), object(2)\n",
            "memory usage: 4.8+ MB\n"
          ]
        }
      ],
      "source": [
        "huairou_df.info()"
      ]
    },
    {
      "cell_type": "markdown",
      "metadata": {},
      "source": [
        "Periksa apakah ada bagian data yang kosong menggunakan fungsi `isna()`"
      ]
    },
    {
      "cell_type": "code",
      "execution_count": 783,
      "metadata": {},
      "outputs": [
        {
          "data": {
            "text/plain": [
              "No            0\n",
              "year          0\n",
              "month         0\n",
              "day           0\n",
              "hour          0\n",
              "PM2.5       953\n",
              "PM10        777\n",
              "SO2         980\n",
              "NO2        1639\n",
              "CO         1422\n",
              "O3         1151\n",
              "TEMP         51\n",
              "PRES         53\n",
              "DEWP         53\n",
              "RAIN         55\n",
              "wd          302\n",
              "WSPM         49\n",
              "station       0\n",
              "dtype: int64"
            ]
          },
          "execution_count": 783,
          "metadata": {},
          "output_type": "execute_result"
        }
      ],
      "source": [
        "huairou_df.isna().sum()"
      ]
    },
    {
      "cell_type": "markdown",
      "metadata": {},
      "source": [
        "Periksa apakah ada data yang terduplikasi menggunakan fungsi `duplicated()`"
      ]
    },
    {
      "cell_type": "code",
      "execution_count": 784,
      "metadata": {},
      "outputs": [
        {
          "data": {
            "text/plain": [
              "0"
            ]
          },
          "execution_count": 784,
          "metadata": {},
          "output_type": "execute_result"
        }
      ],
      "source": [
        "huairou_df.duplicated().sum()"
      ]
    },
    {
      "cell_type": "markdown",
      "metadata": {},
      "source": [
        "#### Nongzhanguan"
      ]
    },
    {
      "cell_type": "markdown",
      "metadata": {},
      "source": [
        "Periksa informasi menggunakan fungsi `info()`"
      ]
    },
    {
      "cell_type": "code",
      "execution_count": 785,
      "metadata": {},
      "outputs": [
        {
          "name": "stdout",
          "output_type": "stream",
          "text": [
            "<class 'pandas.core.frame.DataFrame'>\n",
            "RangeIndex: 35064 entries, 0 to 35063\n",
            "Data columns (total 18 columns):\n",
            " #   Column   Non-Null Count  Dtype  \n",
            "---  ------   --------------  -----  \n",
            " 0   No       35064 non-null  int64  \n",
            " 1   year     35064 non-null  int64  \n",
            " 2   month    35064 non-null  int64  \n",
            " 3   day      35064 non-null  int64  \n",
            " 4   hour     35064 non-null  int64  \n",
            " 5   PM2.5    34436 non-null  float64\n",
            " 6   PM10     34624 non-null  float64\n",
            " 7   SO2      34618 non-null  float64\n",
            " 8   NO2      34372 non-null  float64\n",
            " 9   CO       33858 non-null  float64\n",
            " 10  O3       34558 non-null  float64\n",
            " 11  TEMP     35044 non-null  float64\n",
            " 12  PRES     35044 non-null  float64\n",
            " 13  DEWP     35044 non-null  float64\n",
            " 14  RAIN     35044 non-null  float64\n",
            " 15  wd       34986 non-null  object \n",
            " 16  WSPM     35050 non-null  float64\n",
            " 17  station  35064 non-null  object \n",
            "dtypes: float64(11), int64(5), object(2)\n",
            "memory usage: 4.8+ MB\n"
          ]
        }
      ],
      "source": [
        "nongzhanguan_df.info()"
      ]
    },
    {
      "cell_type": "markdown",
      "metadata": {},
      "source": [
        "Periksa apakah ada bagian data yang kosong menggunakan fungsi `isna()`"
      ]
    },
    {
      "cell_type": "code",
      "execution_count": 786,
      "metadata": {},
      "outputs": [
        {
          "data": {
            "text/plain": [
              "No            0\n",
              "year          0\n",
              "month         0\n",
              "day           0\n",
              "hour          0\n",
              "PM2.5       628\n",
              "PM10        440\n",
              "SO2         446\n",
              "NO2         692\n",
              "CO         1206\n",
              "O3          506\n",
              "TEMP         20\n",
              "PRES         20\n",
              "DEWP         20\n",
              "RAIN         20\n",
              "wd           78\n",
              "WSPM         14\n",
              "station       0\n",
              "dtype: int64"
            ]
          },
          "execution_count": 786,
          "metadata": {},
          "output_type": "execute_result"
        }
      ],
      "source": [
        "nongzhanguan_df.isna().sum()"
      ]
    },
    {
      "cell_type": "markdown",
      "metadata": {},
      "source": [
        "Periksa apakah ada data yang terduplikasi menggunakan fungsi `duplicated()`"
      ]
    },
    {
      "cell_type": "code",
      "execution_count": 787,
      "metadata": {},
      "outputs": [
        {
          "data": {
            "text/plain": [
              "0"
            ]
          },
          "execution_count": 787,
          "metadata": {},
          "output_type": "execute_result"
        }
      ],
      "source": [
        "nongzhanguan_df.duplicated().sum()"
      ]
    },
    {
      "cell_type": "markdown",
      "metadata": {},
      "source": [
        "#### Shunyi"
      ]
    },
    {
      "cell_type": "markdown",
      "metadata": {},
      "source": [
        "Periksa informasi menggunakan fungsi `info()`"
      ]
    },
    {
      "cell_type": "code",
      "execution_count": 788,
      "metadata": {},
      "outputs": [
        {
          "name": "stdout",
          "output_type": "stream",
          "text": [
            "<class 'pandas.core.frame.DataFrame'>\n",
            "RangeIndex: 35064 entries, 0 to 35063\n",
            "Data columns (total 18 columns):\n",
            " #   Column   Non-Null Count  Dtype  \n",
            "---  ------   --------------  -----  \n",
            " 0   No       35064 non-null  int64  \n",
            " 1   year     35064 non-null  int64  \n",
            " 2   month    35064 non-null  int64  \n",
            " 3   day      35064 non-null  int64  \n",
            " 4   hour     35064 non-null  int64  \n",
            " 5   PM2.5    34151 non-null  float64\n",
            " 6   PM10     34516 non-null  float64\n",
            " 7   SO2      33768 non-null  float64\n",
            " 8   NO2      33699 non-null  float64\n",
            " 9   CO       32886 non-null  float64\n",
            " 10  O3       33575 non-null  float64\n",
            " 11  TEMP     35013 non-null  float64\n",
            " 12  PRES     35013 non-null  float64\n",
            " 13  DEWP     35010 non-null  float64\n",
            " 14  RAIN     35013 non-null  float64\n",
            " 15  wd       34581 non-null  object \n",
            " 16  WSPM     35020 non-null  float64\n",
            " 17  station  35064 non-null  object \n",
            "dtypes: float64(11), int64(5), object(2)\n",
            "memory usage: 4.8+ MB\n"
          ]
        }
      ],
      "source": [
        "shunyi_df.info()"
      ]
    },
    {
      "cell_type": "markdown",
      "metadata": {},
      "source": [
        "Periksa apakah ada bagian data yang kosong menggunakan fungsi `isna()`"
      ]
    },
    {
      "cell_type": "code",
      "execution_count": 789,
      "metadata": {},
      "outputs": [
        {
          "data": {
            "text/plain": [
              "No            0\n",
              "year          0\n",
              "month         0\n",
              "day           0\n",
              "hour          0\n",
              "PM2.5       913\n",
              "PM10        548\n",
              "SO2        1296\n",
              "NO2        1365\n",
              "CO         2178\n",
              "O3         1489\n",
              "TEMP         51\n",
              "PRES         51\n",
              "DEWP         54\n",
              "RAIN         51\n",
              "wd          483\n",
              "WSPM         44\n",
              "station       0\n",
              "dtype: int64"
            ]
          },
          "execution_count": 789,
          "metadata": {},
          "output_type": "execute_result"
        }
      ],
      "source": [
        "shunyi_df.isna().sum()"
      ]
    },
    {
      "cell_type": "markdown",
      "metadata": {},
      "source": [
        "Periksa apakah ada data yang terduplikasi menggunakan fungsi `duplicated()`"
      ]
    },
    {
      "cell_type": "code",
      "execution_count": 790,
      "metadata": {},
      "outputs": [
        {
          "data": {
            "text/plain": [
              "0"
            ]
          },
          "execution_count": 790,
          "metadata": {},
          "output_type": "execute_result"
        }
      ],
      "source": [
        "shunyi_df.duplicated().sum()"
      ]
    },
    {
      "cell_type": "markdown",
      "metadata": {},
      "source": [
        "#### Tiantan"
      ]
    },
    {
      "cell_type": "markdown",
      "metadata": {},
      "source": [
        "Periksa informasi menggunakan fungsi `info()`"
      ]
    },
    {
      "cell_type": "code",
      "execution_count": 791,
      "metadata": {},
      "outputs": [
        {
          "name": "stdout",
          "output_type": "stream",
          "text": [
            "<class 'pandas.core.frame.DataFrame'>\n",
            "RangeIndex: 35064 entries, 0 to 35063\n",
            "Data columns (total 18 columns):\n",
            " #   Column   Non-Null Count  Dtype  \n",
            "---  ------   --------------  -----  \n",
            " 0   No       35064 non-null  int64  \n",
            " 1   year     35064 non-null  int64  \n",
            " 2   month    35064 non-null  int64  \n",
            " 3   day      35064 non-null  int64  \n",
            " 4   hour     35064 non-null  int64  \n",
            " 5   PM2.5    34387 non-null  float64\n",
            " 6   PM10     34467 non-null  float64\n",
            " 7   SO2      33946 non-null  float64\n",
            " 8   NO2      34320 non-null  float64\n",
            " 9   CO       33938 non-null  float64\n",
            " 10  O3       34221 non-null  float64\n",
            " 11  TEMP     35044 non-null  float64\n",
            " 12  PRES     35044 non-null  float64\n",
            " 13  DEWP     35044 non-null  float64\n",
            " 14  RAIN     35044 non-null  float64\n",
            " 15  wd       34986 non-null  object \n",
            " 16  WSPM     35050 non-null  float64\n",
            " 17  station  35064 non-null  object \n",
            "dtypes: float64(11), int64(5), object(2)\n",
            "memory usage: 4.8+ MB\n"
          ]
        }
      ],
      "source": [
        "tiantan_df.info()"
      ]
    },
    {
      "cell_type": "markdown",
      "metadata": {},
      "source": [
        "Periksa apakah ada bagian data yang kosong menggunakan fungsi `isna()`"
      ]
    },
    {
      "cell_type": "code",
      "execution_count": 792,
      "metadata": {},
      "outputs": [
        {
          "data": {
            "text/plain": [
              "No            0\n",
              "year          0\n",
              "month         0\n",
              "day           0\n",
              "hour          0\n",
              "PM2.5       677\n",
              "PM10        597\n",
              "SO2        1118\n",
              "NO2         744\n",
              "CO         1126\n",
              "O3          843\n",
              "TEMP         20\n",
              "PRES         20\n",
              "DEWP         20\n",
              "RAIN         20\n",
              "wd           78\n",
              "WSPM         14\n",
              "station       0\n",
              "dtype: int64"
            ]
          },
          "execution_count": 792,
          "metadata": {},
          "output_type": "execute_result"
        }
      ],
      "source": [
        "tiantan_df.isna().sum()"
      ]
    },
    {
      "cell_type": "markdown",
      "metadata": {},
      "source": [
        "Periksa apakah ada data yang terduplikasi menggunakan fungsi `duplicated()`"
      ]
    },
    {
      "cell_type": "code",
      "execution_count": 793,
      "metadata": {},
      "outputs": [
        {
          "data": {
            "text/plain": [
              "0"
            ]
          },
          "execution_count": 793,
          "metadata": {},
          "output_type": "execute_result"
        }
      ],
      "source": [
        "tiantan_df.duplicated().sum()"
      ]
    },
    {
      "cell_type": "markdown",
      "metadata": {},
      "source": [
        "#### Wanliu"
      ]
    },
    {
      "cell_type": "markdown",
      "metadata": {},
      "source": [
        "Periksa informasi menggunakan fungsi `info()`"
      ]
    },
    {
      "cell_type": "code",
      "execution_count": 794,
      "metadata": {},
      "outputs": [
        {
          "name": "stdout",
          "output_type": "stream",
          "text": [
            "<class 'pandas.core.frame.DataFrame'>\n",
            "RangeIndex: 35064 entries, 0 to 35063\n",
            "Data columns (total 18 columns):\n",
            " #   Column   Non-Null Count  Dtype  \n",
            "---  ------   --------------  -----  \n",
            " 0   No       35064 non-null  int64  \n",
            " 1   year     35064 non-null  int64  \n",
            " 2   month    35064 non-null  int64  \n",
            " 3   day      35064 non-null  int64  \n",
            " 4   hour     35064 non-null  int64  \n",
            " 5   PM2.5    34682 non-null  float64\n",
            " 6   PM10     34780 non-null  float64\n",
            " 7   SO2      34489 non-null  float64\n",
            " 8   NO2      33994 non-null  float64\n",
            " 9   CO       33252 non-null  float64\n",
            " 10  O3       32957 non-null  float64\n",
            " 11  TEMP     35044 non-null  float64\n",
            " 12  PRES     35044 non-null  float64\n",
            " 13  DEWP     35044 non-null  float64\n",
            " 14  RAIN     35044 non-null  float64\n",
            " 15  wd       34941 non-null  object \n",
            " 16  WSPM     35050 non-null  float64\n",
            " 17  station  35064 non-null  object \n",
            "dtypes: float64(11), int64(5), object(2)\n",
            "memory usage: 4.8+ MB\n"
          ]
        }
      ],
      "source": [
        "wanliu_df.info()"
      ]
    },
    {
      "cell_type": "markdown",
      "metadata": {},
      "source": [
        "Periksa apakah ada bagian data yang kosong menggunakan fungsi `isna()`"
      ]
    },
    {
      "cell_type": "code",
      "execution_count": 795,
      "metadata": {},
      "outputs": [
        {
          "data": {
            "text/plain": [
              "No            0\n",
              "year          0\n",
              "month         0\n",
              "day           0\n",
              "hour          0\n",
              "PM2.5       382\n",
              "PM10        284\n",
              "SO2         575\n",
              "NO2        1070\n",
              "CO         1812\n",
              "O3         2107\n",
              "TEMP         20\n",
              "PRES         20\n",
              "DEWP         20\n",
              "RAIN         20\n",
              "wd          123\n",
              "WSPM         14\n",
              "station       0\n",
              "dtype: int64"
            ]
          },
          "execution_count": 795,
          "metadata": {},
          "output_type": "execute_result"
        }
      ],
      "source": [
        "wanliu_df.isna().sum()"
      ]
    },
    {
      "cell_type": "markdown",
      "metadata": {},
      "source": [
        "Periksa apakah ada data yang terduplikasi menggunakan fungsi `duplicated()`"
      ]
    },
    {
      "cell_type": "code",
      "execution_count": 796,
      "metadata": {},
      "outputs": [
        {
          "data": {
            "text/plain": [
              "0"
            ]
          },
          "execution_count": 796,
          "metadata": {},
          "output_type": "execute_result"
        }
      ],
      "source": [
        "wanliu_df.duplicated().sum()"
      ]
    },
    {
      "cell_type": "markdown",
      "metadata": {},
      "source": [
        "#### Wanshouxhingong"
      ]
    },
    {
      "cell_type": "markdown",
      "metadata": {},
      "source": [
        "Periksa informasi menggunakan fungsi `info()`"
      ]
    },
    {
      "cell_type": "code",
      "execution_count": 797,
      "metadata": {},
      "outputs": [
        {
          "name": "stdout",
          "output_type": "stream",
          "text": [
            "<class 'pandas.core.frame.DataFrame'>\n",
            "RangeIndex: 35064 entries, 0 to 35063\n",
            "Data columns (total 18 columns):\n",
            " #   Column   Non-Null Count  Dtype  \n",
            "---  ------   --------------  -----  \n",
            " 0   No       35064 non-null  int64  \n",
            " 1   year     35064 non-null  int64  \n",
            " 2   month    35064 non-null  int64  \n",
            " 3   day      35064 non-null  int64  \n",
            " 4   hour     35064 non-null  int64  \n",
            " 5   PM2.5    34368 non-null  float64\n",
            " 6   PM10     34580 non-null  float64\n",
            " 7   SO2      34395 non-null  float64\n",
            " 8   NO2      34310 non-null  float64\n",
            " 9   CO       33767 non-null  float64\n",
            " 10  O3       33986 non-null  float64\n",
            " 11  TEMP     35045 non-null  float64\n",
            " 12  PRES     35045 non-null  float64\n",
            " 13  DEWP     35045 non-null  float64\n",
            " 14  RAIN     35045 non-null  float64\n",
            " 15  wd       34985 non-null  object \n",
            " 16  WSPM     35051 non-null  float64\n",
            " 17  station  35064 non-null  object \n",
            "dtypes: float64(11), int64(5), object(2)\n",
            "memory usage: 4.8+ MB\n"
          ]
        }
      ],
      "source": [
        "wanshouxigong_df.info()"
      ]
    },
    {
      "cell_type": "markdown",
      "metadata": {},
      "source": [
        "Periksa apakah ada bagian data yang kosong menggunakan fungsi `isna()`"
      ]
    },
    {
      "cell_type": "code",
      "execution_count": 798,
      "metadata": {},
      "outputs": [
        {
          "data": {
            "text/plain": [
              "No            0\n",
              "year          0\n",
              "month         0\n",
              "day           0\n",
              "hour          0\n",
              "PM2.5       696\n",
              "PM10        484\n",
              "SO2         669\n",
              "NO2         754\n",
              "CO         1297\n",
              "O3         1078\n",
              "TEMP         19\n",
              "PRES         19\n",
              "DEWP         19\n",
              "RAIN         19\n",
              "wd           79\n",
              "WSPM         13\n",
              "station       0\n",
              "dtype: int64"
            ]
          },
          "execution_count": 798,
          "metadata": {},
          "output_type": "execute_result"
        }
      ],
      "source": [
        "wanshouxigong_df.isna().sum()"
      ]
    },
    {
      "cell_type": "markdown",
      "metadata": {},
      "source": [
        "Periksa apakah ada data yang terduplikasi menggunakan fungsi `duplicated()`"
      ]
    },
    {
      "cell_type": "code",
      "execution_count": 799,
      "metadata": {},
      "outputs": [
        {
          "data": {
            "text/plain": [
              "0"
            ]
          },
          "execution_count": 799,
          "metadata": {},
          "output_type": "execute_result"
        }
      ],
      "source": [
        "wanshouxigong_df.duplicated().sum()"
      ]
    },
    {
      "cell_type": "markdown",
      "metadata": {
        "id": "7dtxhAPrkhPL"
      },
      "source": [
        "**Insight:**\n",
        "- Kolom year, month, day, dan hour seharusnya menjadi satu kolom saja dalam bentuk date time\n",
        "- Semua dataframe memiliki bagian data yang kosong\n",
        "- Semua dataframe tidak memiliki data yang terduplikasi"
      ]
    },
    {
      "cell_type": "markdown",
      "metadata": {
        "id": "EhN5R4hr8DC1"
      },
      "source": [
        "### Cleaning Data"
      ]
    },
    {
      "cell_type": "markdown",
      "metadata": {},
      "source": [
        "Dari pemeriksaan tidak ditemukan adanya duplikasi data di setiap dataframe. Setiap dataframe memiliki beberapa bagian kosong pada kolom PM2.5, PM10, NO2, CO, O3, TEMP, PRES, DEWP, RAIN, wd, dan WSPM. Pada bagian no, year, month, day, hour, dan station tidak ada data yang kosong.\n",
        "\n",
        "Dari hasil analisis juga didapatkan bahwa kolom PM2.5, PM10, NO2, CO, O3, TEMP, PRES, DEWP, RAIN, dan WSPM berupa data numeris sedangkan kolom wd berupa data kategorikal sehingga diperlukan pendekatan yang berbeda untuk pembersihan datanya."
      ]
    },
    {
      "cell_type": "markdown",
      "metadata": {},
      "source": [
        "Setiap data kosong dari kolom numeris akan saya lakukan interpolasi Saya menggunakan fungsi `interpolate()` untuk setiap DataFrame. Metode interpolasi yang saya gunakan adalah metode linear, yaitu mengisi nilai kosong secara linier berdasarkan nilai sebelum dan sesudahnya."
      ]
    },
    {
      "cell_type": "markdown",
      "metadata": {},
      "source": [
        "Sedangkan untuk data dari kolom `wd` yang kosong akan saya isi dengan menggunakan imputasi data. Data kosong akan diisi dengan modus atau nilai yang paling sering muncul dari kolom tersebut. "
      ]
    },
    {
      "cell_type": "markdown",
      "metadata": {},
      "source": [
        "#### Menambahkan Kolom Datetime"
      ]
    },
    {
      "cell_type": "code",
      "execution_count": 800,
      "metadata": {},
      "outputs": [],
      "source": [
        "df_list = [aotizhongxin_df, changping_df, dingling_df, dongsi_df, guanyuan_df, gucheng_df, huairou_df, nongzhanguan_df, shunyi_df, tiantan_df, wanliu_df, wanshouxigong_df]\n",
        "\n",
        "for i in range(len(df_list)):\n",
        "    df_list[i][\"Datetime\"] = pd.to_datetime(df_list[i][['year', 'month', 'day', 'hour']])"
      ]
    },
    {
      "cell_type": "markdown",
      "metadata": {},
      "source": [
        "#### Mengisi data kosong dari kolom numerik (menggunakan interpolasi linear)"
      ]
    },
    {
      "cell_type": "code",
      "execution_count": 801,
      "metadata": {
        "id": "jVnYpprE9Evz"
      },
      "outputs": [],
      "source": [
        "for i in range(len(df_list)):\n",
        "    df_list[i] = df_list[i].interpolate(method='linear')"
      ]
    },
    {
      "cell_type": "markdown",
      "metadata": {},
      "source": [
        "#### Mengisi data kosong untuk kolom `wd` (menggunakan imputasi data dengan modus atau nilai paling sering muncul)"
      ]
    },
    {
      "cell_type": "code",
      "execution_count": 802,
      "metadata": {},
      "outputs": [
        {
          "name": "stdout",
          "output_type": "stream",
          "text": [
            "No          0\n",
            "year        0\n",
            "month       0\n",
            "day         0\n",
            "hour        0\n",
            "PM2.5       0\n",
            "PM10        0\n",
            "SO2         0\n",
            "NO2         0\n",
            "CO          0\n",
            "O3          0\n",
            "TEMP        0\n",
            "PRES        0\n",
            "DEWP        0\n",
            "RAIN        0\n",
            "wd          0\n",
            "WSPM        0\n",
            "station     0\n",
            "Datetime    0\n",
            "dtype: int64\n"
          ]
        }
      ],
      "source": [
        "for i in range(len(df_list)):\n",
        "    modus = df_list[i]['wd'].mode()[0]\n",
        "    df_list[i]['wd'].fillna(value=modus, inplace=True)\n",
        "print(df_list[0].isna().sum())"
      ]
    },
    {
      "cell_type": "markdown",
      "metadata": {},
      "source": [
        "#### Menyimpan kembali hasil cleaning ke masing-masing dataframe"
      ]
    },
    {
      "cell_type": "code",
      "execution_count": 803,
      "metadata": {},
      "outputs": [],
      "source": [
        "aotizhongxin_df, changping_df, dingling_df, dongsi_df, guanyuan_df, gucheng_df, huairou_df, nongzhanguan_df, shunyi_df, tiantan_df, wanliu_df, wanshouxigong_df = df_list"
      ]
    },
    {
      "cell_type": "code",
      "execution_count": 804,
      "metadata": {},
      "outputs": [
        {
          "data": {
            "text/plain": [
              "No          0\n",
              "year        0\n",
              "month       0\n",
              "day         0\n",
              "hour        0\n",
              "PM2.5       0\n",
              "PM10        0\n",
              "SO2         0\n",
              "NO2         0\n",
              "CO          0\n",
              "O3          0\n",
              "TEMP        0\n",
              "PRES        0\n",
              "DEWP        0\n",
              "RAIN        0\n",
              "wd          0\n",
              "WSPM        0\n",
              "station     0\n",
              "Datetime    0\n",
              "dtype: int64"
            ]
          },
          "execution_count": 804,
          "metadata": {},
          "output_type": "execute_result"
        }
      ],
      "source": [
        "aotizhongxin_df.isna().sum()"
      ]
    },
    {
      "cell_type": "code",
      "execution_count": 805,
      "metadata": {},
      "outputs": [
        {
          "data": {
            "text/plain": [
              "No          0\n",
              "year        0\n",
              "month       0\n",
              "day         0\n",
              "hour        0\n",
              "PM2.5       0\n",
              "PM10        0\n",
              "SO2         0\n",
              "NO2         0\n",
              "CO          0\n",
              "O3          0\n",
              "TEMP        0\n",
              "PRES        0\n",
              "DEWP        0\n",
              "RAIN        0\n",
              "wd          0\n",
              "WSPM        0\n",
              "station     0\n",
              "Datetime    0\n",
              "dtype: int64"
            ]
          },
          "execution_count": 805,
          "metadata": {},
          "output_type": "execute_result"
        }
      ],
      "source": [
        "changping_df.isna().sum()"
      ]
    },
    {
      "cell_type": "code",
      "execution_count": 806,
      "metadata": {},
      "outputs": [
        {
          "data": {
            "text/plain": [
              "No          0\n",
              "year        0\n",
              "month       0\n",
              "day         0\n",
              "hour        0\n",
              "PM2.5       0\n",
              "PM10        0\n",
              "SO2         0\n",
              "NO2         2\n",
              "CO          0\n",
              "O3          0\n",
              "TEMP        0\n",
              "PRES        0\n",
              "DEWP        0\n",
              "RAIN        0\n",
              "wd          0\n",
              "WSPM        0\n",
              "station     0\n",
              "Datetime    0\n",
              "dtype: int64"
            ]
          },
          "execution_count": 806,
          "metadata": {},
          "output_type": "execute_result"
        }
      ],
      "source": [
        "dingling_df.isna().sum()"
      ]
    },
    {
      "cell_type": "code",
      "execution_count": 807,
      "metadata": {},
      "outputs": [
        {
          "data": {
            "text/plain": [
              "No          0\n",
              "year        0\n",
              "month       0\n",
              "day         0\n",
              "hour        0\n",
              "PM2.5       0\n",
              "PM10        0\n",
              "SO2         0\n",
              "NO2         0\n",
              "CO          0\n",
              "O3          0\n",
              "TEMP        0\n",
              "PRES        0\n",
              "DEWP        0\n",
              "RAIN        0\n",
              "wd          0\n",
              "WSPM        0\n",
              "station     0\n",
              "Datetime    0\n",
              "dtype: int64"
            ]
          },
          "execution_count": 807,
          "metadata": {},
          "output_type": "execute_result"
        }
      ],
      "source": [
        "dongsi_df.isna().sum()"
      ]
    },
    {
      "cell_type": "code",
      "execution_count": 808,
      "metadata": {},
      "outputs": [
        {
          "data": {
            "text/plain": [
              "No          0\n",
              "year        0\n",
              "month       0\n",
              "day         0\n",
              "hour        0\n",
              "PM2.5       0\n",
              "PM10        0\n",
              "SO2         0\n",
              "NO2         0\n",
              "CO          0\n",
              "O3          0\n",
              "TEMP        0\n",
              "PRES        0\n",
              "DEWP        0\n",
              "RAIN        0\n",
              "wd          0\n",
              "WSPM        0\n",
              "station     0\n",
              "Datetime    0\n",
              "dtype: int64"
            ]
          },
          "execution_count": 808,
          "metadata": {},
          "output_type": "execute_result"
        }
      ],
      "source": [
        "guanyuan_df.isna().sum()"
      ]
    },
    {
      "cell_type": "code",
      "execution_count": 809,
      "metadata": {},
      "outputs": [
        {
          "data": {
            "text/plain": [
              "No           0\n",
              "year         0\n",
              "month        0\n",
              "day          0\n",
              "hour         0\n",
              "PM2.5        0\n",
              "PM10         0\n",
              "SO2          0\n",
              "NO2         20\n",
              "CO           0\n",
              "O3           0\n",
              "TEMP         0\n",
              "PRES         0\n",
              "DEWP         0\n",
              "RAIN         0\n",
              "wd           0\n",
              "WSPM         0\n",
              "station      0\n",
              "Datetime     0\n",
              "dtype: int64"
            ]
          },
          "execution_count": 809,
          "metadata": {},
          "output_type": "execute_result"
        }
      ],
      "source": [
        "gucheng_df.isna().sum()"
      ]
    },
    {
      "cell_type": "code",
      "execution_count": 810,
      "metadata": {},
      "outputs": [
        {
          "data": {
            "text/plain": [
              "No          0\n",
              "year        0\n",
              "month       0\n",
              "day         0\n",
              "hour        0\n",
              "PM2.5       0\n",
              "PM10        0\n",
              "SO2         0\n",
              "NO2         0\n",
              "CO          0\n",
              "O3          0\n",
              "TEMP        0\n",
              "PRES        0\n",
              "DEWP        0\n",
              "RAIN        0\n",
              "wd          0\n",
              "WSPM        0\n",
              "station     0\n",
              "Datetime    0\n",
              "dtype: int64"
            ]
          },
          "execution_count": 810,
          "metadata": {},
          "output_type": "execute_result"
        }
      ],
      "source": [
        "huairou_df.isna().sum()"
      ]
    },
    {
      "cell_type": "code",
      "execution_count": 811,
      "metadata": {},
      "outputs": [
        {
          "data": {
            "text/plain": [
              "No          0\n",
              "year        0\n",
              "month       0\n",
              "day         0\n",
              "hour        0\n",
              "PM2.5       0\n",
              "PM10        0\n",
              "SO2         0\n",
              "NO2         0\n",
              "CO          0\n",
              "O3          0\n",
              "TEMP        0\n",
              "PRES        0\n",
              "DEWP        0\n",
              "RAIN        0\n",
              "wd          0\n",
              "WSPM        0\n",
              "station     0\n",
              "Datetime    0\n",
              "dtype: int64"
            ]
          },
          "execution_count": 811,
          "metadata": {},
          "output_type": "execute_result"
        }
      ],
      "source": [
        "nongzhanguan_df.isna().sum()"
      ]
    },
    {
      "cell_type": "code",
      "execution_count": 812,
      "metadata": {},
      "outputs": [
        {
          "data": {
            "text/plain": [
              "No          0\n",
              "year        0\n",
              "month       0\n",
              "day         0\n",
              "hour        0\n",
              "PM2.5       0\n",
              "PM10        0\n",
              "SO2         0\n",
              "NO2         0\n",
              "CO          0\n",
              "O3          0\n",
              "TEMP        0\n",
              "PRES        0\n",
              "DEWP        0\n",
              "RAIN        0\n",
              "wd          0\n",
              "WSPM        0\n",
              "station     0\n",
              "Datetime    0\n",
              "dtype: int64"
            ]
          },
          "execution_count": 812,
          "metadata": {},
          "output_type": "execute_result"
        }
      ],
      "source": [
        "shunyi_df.isna().sum()"
      ]
    },
    {
      "cell_type": "code",
      "execution_count": 813,
      "metadata": {},
      "outputs": [
        {
          "data": {
            "text/plain": [
              "No          0\n",
              "year        0\n",
              "month       0\n",
              "day         0\n",
              "hour        0\n",
              "PM2.5       0\n",
              "PM10        0\n",
              "SO2         0\n",
              "NO2         0\n",
              "CO          0\n",
              "O3          0\n",
              "TEMP        0\n",
              "PRES        0\n",
              "DEWP        0\n",
              "RAIN        0\n",
              "wd          0\n",
              "WSPM        0\n",
              "station     0\n",
              "Datetime    0\n",
              "dtype: int64"
            ]
          },
          "execution_count": 813,
          "metadata": {},
          "output_type": "execute_result"
        }
      ],
      "source": [
        "tiantan_df.isna().sum()"
      ]
    },
    {
      "cell_type": "code",
      "execution_count": 814,
      "metadata": {},
      "outputs": [
        {
          "data": {
            "text/plain": [
              "No          0\n",
              "year        0\n",
              "month       0\n",
              "day         0\n",
              "hour        0\n",
              "PM2.5       0\n",
              "PM10        0\n",
              "SO2         0\n",
              "NO2         0\n",
              "CO          0\n",
              "O3          0\n",
              "TEMP        0\n",
              "PRES        0\n",
              "DEWP        0\n",
              "RAIN        0\n",
              "wd          0\n",
              "WSPM        0\n",
              "station     0\n",
              "Datetime    0\n",
              "dtype: int64"
            ]
          },
          "execution_count": 814,
          "metadata": {},
          "output_type": "execute_result"
        }
      ],
      "source": [
        "wanliu_df.isna().sum()"
      ]
    },
    {
      "cell_type": "code",
      "execution_count": 815,
      "metadata": {},
      "outputs": [
        {
          "data": {
            "text/plain": [
              "No          0\n",
              "year        0\n",
              "month       0\n",
              "day         0\n",
              "hour        0\n",
              "PM2.5       0\n",
              "PM10        0\n",
              "SO2         0\n",
              "NO2         0\n",
              "CO          0\n",
              "O3          0\n",
              "TEMP        0\n",
              "PRES        0\n",
              "DEWP        0\n",
              "RAIN        0\n",
              "wd          0\n",
              "WSPM        0\n",
              "station     0\n",
              "Datetime    0\n",
              "dtype: int64"
            ]
          },
          "execution_count": 815,
          "metadata": {},
          "output_type": "execute_result"
        }
      ],
      "source": [
        "wanshouxigong_df.isna().sum()"
      ]
    },
    {
      "cell_type": "markdown",
      "metadata": {
        "id": "Q_5ejIqckiSP"
      },
      "source": [
        "**Insight:**\n",
        "- Semua data yang kosong telah terisi dengan suatu nilai\n",
        "- Untuk data dari kolom numerik yang kosong diisi dengan menggunakan interpolasi linear yang mengisi nilai dari data tersebut berdasarkan nilai disekitarnya\n",
        "- Untuk data dari kolom kategorikal diisi dengan menggunakan imputasi yang mengisi nilai dari data tersebut dengan nilai yang paling sering muncul pada kolom"
      ]
    },
    {
      "cell_type": "markdown",
      "metadata": {
        "id": "gp-Y6wU38DC1"
      },
      "source": [
        "## Exploratory Data Analysis (EDA)"
      ]
    },
    {
      "cell_type": "markdown",
      "metadata": {
        "id": "MW7WF2kr8DC1"
      },
      "source": [
        "### Explore ..."
      ]
    },
    {
      "cell_type": "markdown",
      "metadata": {},
      "source": [
        "Untuk mempermudah menjawab semua pertanyaan saya menggabungkan semua dataframe menjadi satu yang saya berinama `all_df`."
      ]
    },
    {
      "cell_type": "code",
      "execution_count": 816,
      "metadata": {},
      "outputs": [],
      "source": [
        "all_df = pd.concat([aotizhongxin_df, changping_df, dingling_df, dongsi_df, guanyuan_df, gucheng_df, huairou_df, nongzhanguan_df, shunyi_df, tiantan_df, wanliu_df, wanshouxigong_df], ignore_index=True)"
      ]
    },
    {
      "cell_type": "code",
      "execution_count": 817,
      "metadata": {},
      "outputs": [],
      "source": [
        "all_df.to_csv('dashboard/all_df.csv', index =False)"
      ]
    },
    {
      "cell_type": "code",
      "execution_count": 818,
      "metadata": {},
      "outputs": [
        {
          "name": "stdout",
          "output_type": "stream",
          "text": [
            "<class 'pandas.core.frame.DataFrame'>\n",
            "RangeIndex: 420768 entries, 0 to 420767\n",
            "Data columns (total 19 columns):\n",
            " #   Column    Non-Null Count   Dtype         \n",
            "---  ------    --------------   -----         \n",
            " 0   No        420768 non-null  int64         \n",
            " 1   year      420768 non-null  int64         \n",
            " 2   month     420768 non-null  int64         \n",
            " 3   day       420768 non-null  int64         \n",
            " 4   hour      420768 non-null  int64         \n",
            " 5   PM2.5     420768 non-null  float64       \n",
            " 6   PM10      420768 non-null  float64       \n",
            " 7   SO2       420768 non-null  float64       \n",
            " 8   NO2       420746 non-null  float64       \n",
            " 9   CO        420768 non-null  float64       \n",
            " 10  O3        420768 non-null  float64       \n",
            " 11  TEMP      420768 non-null  float64       \n",
            " 12  PRES      420768 non-null  float64       \n",
            " 13  DEWP      420768 non-null  float64       \n",
            " 14  RAIN      420768 non-null  float64       \n",
            " 15  wd        420768 non-null  object        \n",
            " 16  WSPM      420768 non-null  float64       \n",
            " 17  station   420768 non-null  object        \n",
            " 18  Datetime  420768 non-null  datetime64[ns]\n",
            "dtypes: datetime64[ns](1), float64(11), int64(5), object(2)\n",
            "memory usage: 61.0+ MB\n"
          ]
        }
      ],
      "source": [
        "all_df.info()"
      ]
    },
    {
      "cell_type": "code",
      "execution_count": 819,
      "metadata": {},
      "outputs": [
        {
          "data": {
            "text/html": [
              "<div>\n",
              "<style scoped>\n",
              "    .dataframe tbody tr th:only-of-type {\n",
              "        vertical-align: middle;\n",
              "    }\n",
              "\n",
              "    .dataframe tbody tr th {\n",
              "        vertical-align: top;\n",
              "    }\n",
              "\n",
              "    .dataframe thead th {\n",
              "        text-align: right;\n",
              "    }\n",
              "</style>\n",
              "<table border=\"1\" class=\"dataframe\">\n",
              "  <thead>\n",
              "    <tr style=\"text-align: right;\">\n",
              "      <th></th>\n",
              "      <th>No</th>\n",
              "      <th>year</th>\n",
              "      <th>month</th>\n",
              "      <th>day</th>\n",
              "      <th>hour</th>\n",
              "      <th>PM2.5</th>\n",
              "      <th>PM10</th>\n",
              "      <th>SO2</th>\n",
              "      <th>NO2</th>\n",
              "      <th>CO</th>\n",
              "      <th>O3</th>\n",
              "      <th>TEMP</th>\n",
              "      <th>PRES</th>\n",
              "      <th>DEWP</th>\n",
              "      <th>RAIN</th>\n",
              "      <th>WSPM</th>\n",
              "      <th>Datetime</th>\n",
              "    </tr>\n",
              "  </thead>\n",
              "  <tbody>\n",
              "    <tr>\n",
              "      <th>count</th>\n",
              "      <td>420768.000000</td>\n",
              "      <td>420768.000000</td>\n",
              "      <td>420768.000000</td>\n",
              "      <td>420768.000000</td>\n",
              "      <td>420768.000000</td>\n",
              "      <td>420768.000000</td>\n",
              "      <td>420768.000000</td>\n",
              "      <td>420768.000000</td>\n",
              "      <td>420746.000000</td>\n",
              "      <td>420768.000000</td>\n",
              "      <td>420768.000000</td>\n",
              "      <td>420768.000000</td>\n",
              "      <td>420768.000000</td>\n",
              "      <td>420768.000000</td>\n",
              "      <td>420768.000000</td>\n",
              "      <td>420768.000000</td>\n",
              "      <td>420768</td>\n",
              "    </tr>\n",
              "    <tr>\n",
              "      <th>mean</th>\n",
              "      <td>17532.500000</td>\n",
              "      <td>2014.662560</td>\n",
              "      <td>6.522930</td>\n",
              "      <td>15.729637</td>\n",
              "      <td>11.500000</td>\n",
              "      <td>79.839718</td>\n",
              "      <td>104.910268</td>\n",
              "      <td>15.913090</td>\n",
              "      <td>50.601416</td>\n",
              "      <td>1235.682649</td>\n",
              "      <td>57.237872</td>\n",
              "      <td>13.531692</td>\n",
              "      <td>1010.753337</td>\n",
              "      <td>2.482421</td>\n",
              "      <td>0.064428</td>\n",
              "      <td>1.730034</td>\n",
              "      <td>2015-03-01 11:30:00.000001024</td>\n",
              "    </tr>\n",
              "    <tr>\n",
              "      <th>min</th>\n",
              "      <td>1.000000</td>\n",
              "      <td>2013.000000</td>\n",
              "      <td>1.000000</td>\n",
              "      <td>1.000000</td>\n",
              "      <td>0.000000</td>\n",
              "      <td>2.000000</td>\n",
              "      <td>2.000000</td>\n",
              "      <td>0.285600</td>\n",
              "      <td>1.026500</td>\n",
              "      <td>100.000000</td>\n",
              "      <td>0.214200</td>\n",
              "      <td>-19.900000</td>\n",
              "      <td>982.400000</td>\n",
              "      <td>-43.400000</td>\n",
              "      <td>0.000000</td>\n",
              "      <td>0.000000</td>\n",
              "      <td>2013-03-01 00:00:00</td>\n",
              "    </tr>\n",
              "    <tr>\n",
              "      <th>25%</th>\n",
              "      <td>8766.750000</td>\n",
              "      <td>2014.000000</td>\n",
              "      <td>4.000000</td>\n",
              "      <td>8.000000</td>\n",
              "      <td>5.750000</td>\n",
              "      <td>20.000000</td>\n",
              "      <td>36.000000</td>\n",
              "      <td>3.000000</td>\n",
              "      <td>23.000000</td>\n",
              "      <td>500.000000</td>\n",
              "      <td>10.000000</td>\n",
              "      <td>3.100000</td>\n",
              "      <td>1002.300000</td>\n",
              "      <td>-8.900000</td>\n",
              "      <td>0.000000</td>\n",
              "      <td>0.900000</td>\n",
              "      <td>2014-03-01 05:45:00</td>\n",
              "    </tr>\n",
              "    <tr>\n",
              "      <th>50%</th>\n",
              "      <td>17532.500000</td>\n",
              "      <td>2015.000000</td>\n",
              "      <td>7.000000</td>\n",
              "      <td>16.000000</td>\n",
              "      <td>11.500000</td>\n",
              "      <td>55.000000</td>\n",
              "      <td>82.000000</td>\n",
              "      <td>7.000000</td>\n",
              "      <td>43.000000</td>\n",
              "      <td>900.000000</td>\n",
              "      <td>44.000000</td>\n",
              "      <td>14.500000</td>\n",
              "      <td>1010.400000</td>\n",
              "      <td>3.000000</td>\n",
              "      <td>0.000000</td>\n",
              "      <td>1.400000</td>\n",
              "      <td>2015-03-01 11:30:00</td>\n",
              "    </tr>\n",
              "    <tr>\n",
              "      <th>75%</th>\n",
              "      <td>26298.250000</td>\n",
              "      <td>2016.000000</td>\n",
              "      <td>10.000000</td>\n",
              "      <td>23.000000</td>\n",
              "      <td>17.250000</td>\n",
              "      <td>111.000000</td>\n",
              "      <td>145.000000</td>\n",
              "      <td>20.000000</td>\n",
              "      <td>71.000000</td>\n",
              "      <td>1500.000000</td>\n",
              "      <td>82.000000</td>\n",
              "      <td>23.300000</td>\n",
              "      <td>1019.000000</td>\n",
              "      <td>15.100000</td>\n",
              "      <td>0.000000</td>\n",
              "      <td>2.200000</td>\n",
              "      <td>2016-02-29 17:15:00</td>\n",
              "    </tr>\n",
              "    <tr>\n",
              "      <th>max</th>\n",
              "      <td>35064.000000</td>\n",
              "      <td>2017.000000</td>\n",
              "      <td>12.000000</td>\n",
              "      <td>31.000000</td>\n",
              "      <td>23.000000</td>\n",
              "      <td>999.000000</td>\n",
              "      <td>999.000000</td>\n",
              "      <td>500.000000</td>\n",
              "      <td>290.000000</td>\n",
              "      <td>10000.000000</td>\n",
              "      <td>1071.000000</td>\n",
              "      <td>41.600000</td>\n",
              "      <td>1042.800000</td>\n",
              "      <td>29.100000</td>\n",
              "      <td>72.500000</td>\n",
              "      <td>13.200000</td>\n",
              "      <td>2017-02-28 23:00:00</td>\n",
              "    </tr>\n",
              "    <tr>\n",
              "      <th>std</th>\n",
              "      <td>10122.116943</td>\n",
              "      <td>1.177198</td>\n",
              "      <td>3.448707</td>\n",
              "      <td>8.800102</td>\n",
              "      <td>6.922195</td>\n",
              "      <td>80.950217</td>\n",
              "      <td>92.431422</td>\n",
              "      <td>21.896609</td>\n",
              "      <td>35.171276</td>\n",
              "      <td>1161.790893</td>\n",
              "      <td>57.135195</td>\n",
              "      <td>11.437867</td>\n",
              "      <td>10.474302</td>\n",
              "      <td>13.797675</td>\n",
              "      <td>0.820638</td>\n",
              "      <td>1.246674</td>\n",
              "      <td>NaN</td>\n",
              "    </tr>\n",
              "  </tbody>\n",
              "</table>\n",
              "</div>"
            ],
            "text/plain": [
              "                  No           year          month            day  \\\n",
              "count  420768.000000  420768.000000  420768.000000  420768.000000   \n",
              "mean    17532.500000    2014.662560       6.522930      15.729637   \n",
              "min         1.000000    2013.000000       1.000000       1.000000   \n",
              "25%      8766.750000    2014.000000       4.000000       8.000000   \n",
              "50%     17532.500000    2015.000000       7.000000      16.000000   \n",
              "75%     26298.250000    2016.000000      10.000000      23.000000   \n",
              "max     35064.000000    2017.000000      12.000000      31.000000   \n",
              "std     10122.116943       1.177198       3.448707       8.800102   \n",
              "\n",
              "                hour          PM2.5           PM10            SO2  \\\n",
              "count  420768.000000  420768.000000  420768.000000  420768.000000   \n",
              "mean       11.500000      79.839718     104.910268      15.913090   \n",
              "min         0.000000       2.000000       2.000000       0.285600   \n",
              "25%         5.750000      20.000000      36.000000       3.000000   \n",
              "50%        11.500000      55.000000      82.000000       7.000000   \n",
              "75%        17.250000     111.000000     145.000000      20.000000   \n",
              "max        23.000000     999.000000     999.000000     500.000000   \n",
              "std         6.922195      80.950217      92.431422      21.896609   \n",
              "\n",
              "                 NO2             CO             O3           TEMP  \\\n",
              "count  420746.000000  420768.000000  420768.000000  420768.000000   \n",
              "mean       50.601416    1235.682649      57.237872      13.531692   \n",
              "min         1.026500     100.000000       0.214200     -19.900000   \n",
              "25%        23.000000     500.000000      10.000000       3.100000   \n",
              "50%        43.000000     900.000000      44.000000      14.500000   \n",
              "75%        71.000000    1500.000000      82.000000      23.300000   \n",
              "max       290.000000   10000.000000    1071.000000      41.600000   \n",
              "std        35.171276    1161.790893      57.135195      11.437867   \n",
              "\n",
              "                PRES           DEWP           RAIN           WSPM  \\\n",
              "count  420768.000000  420768.000000  420768.000000  420768.000000   \n",
              "mean     1010.753337       2.482421       0.064428       1.730034   \n",
              "min       982.400000     -43.400000       0.000000       0.000000   \n",
              "25%      1002.300000      -8.900000       0.000000       0.900000   \n",
              "50%      1010.400000       3.000000       0.000000       1.400000   \n",
              "75%      1019.000000      15.100000       0.000000       2.200000   \n",
              "max      1042.800000      29.100000      72.500000      13.200000   \n",
              "std        10.474302      13.797675       0.820638       1.246674   \n",
              "\n",
              "                            Datetime  \n",
              "count                         420768  \n",
              "mean   2015-03-01 11:30:00.000001024  \n",
              "min              2013-03-01 00:00:00  \n",
              "25%              2014-03-01 05:45:00  \n",
              "50%              2015-03-01 11:30:00  \n",
              "75%              2016-02-29 17:15:00  \n",
              "max              2017-02-28 23:00:00  \n",
              "std                              NaN  "
            ]
          },
          "execution_count": 819,
          "metadata": {},
          "output_type": "execute_result"
        }
      ],
      "source": [
        "all_df.describe()"
      ]
    },
    {
      "cell_type": "markdown",
      "metadata": {},
      "source": [
        "Untuk menjawab pertanyaan pertama saya mengelompokan data polutan (PM2.5, PM10, SO2, NO2, CO, O3) berdasarkan `station` menggunakan fungsi `groupby()`. Saya juga menghitung rata-rata bulanan untuk konsentrasi polutan dengan menggunakan fungsi `mean()`"
      ]
    },
    {
      "cell_type": "code",
      "execution_count": 820,
      "metadata": {
        "id": "e9CQCZjk8DC2"
      },
      "outputs": [],
      "source": [
        "pollutant_columns = ['PM2.5', 'PM10', 'SO2', 'NO2', 'CO', 'O3']\n",
        "\n",
        "monthly_avg = all_df.groupby(['station'])[pollutant_columns].mean().reset_index()"
      ]
    },
    {
      "cell_type": "code",
      "execution_count": 821,
      "metadata": {},
      "outputs": [
        {
          "data": {
            "text/html": [
              "<div>\n",
              "<style scoped>\n",
              "    .dataframe tbody tr th:only-of-type {\n",
              "        vertical-align: middle;\n",
              "    }\n",
              "\n",
              "    .dataframe tbody tr th {\n",
              "        vertical-align: top;\n",
              "    }\n",
              "\n",
              "    .dataframe thead th {\n",
              "        text-align: right;\n",
              "    }\n",
              "</style>\n",
              "<table border=\"1\" class=\"dataframe\">\n",
              "  <thead>\n",
              "    <tr style=\"text-align: right;\">\n",
              "      <th></th>\n",
              "      <th>station</th>\n",
              "      <th>PM2.5</th>\n",
              "      <th>PM10</th>\n",
              "      <th>SO2</th>\n",
              "      <th>NO2</th>\n",
              "      <th>CO</th>\n",
              "      <th>O3</th>\n",
              "    </tr>\n",
              "  </thead>\n",
              "  <tbody>\n",
              "    <tr>\n",
              "      <th>0</th>\n",
              "      <td>Aotizhongxin</td>\n",
              "      <td>82.540623</td>\n",
              "      <td>110.210033</td>\n",
              "      <td>17.459251</td>\n",
              "      <td>59.074106</td>\n",
              "      <td>1264.692405</td>\n",
              "      <td>55.328626</td>\n",
              "    </tr>\n",
              "    <tr>\n",
              "      <th>1</th>\n",
              "      <td>Changping</td>\n",
              "      <td>70.986438</td>\n",
              "      <td>94.788575</td>\n",
              "      <td>14.943066</td>\n",
              "      <td>44.206153</td>\n",
              "      <td>1156.990246</td>\n",
              "      <td>57.976253</td>\n",
              "    </tr>\n",
              "    <tr>\n",
              "      <th>2</th>\n",
              "      <td>Dingling</td>\n",
              "      <td>66.845557</td>\n",
              "      <td>84.113713</td>\n",
              "      <td>11.797849</td>\n",
              "      <td>27.305033</td>\n",
              "      <td>925.111838</td>\n",
              "      <td>70.530792</td>\n",
              "    </tr>\n",
              "    <tr>\n",
              "      <th>3</th>\n",
              "      <td>Dongsi</td>\n",
              "      <td>86.144243</td>\n",
              "      <td>110.347617</td>\n",
              "      <td>18.506142</td>\n",
              "      <td>53.953078</td>\n",
              "      <td>1331.913045</td>\n",
              "      <td>57.700357</td>\n",
              "    </tr>\n",
              "    <tr>\n",
              "      <th>4</th>\n",
              "      <td>Guanyuan</td>\n",
              "      <td>82.897522</td>\n",
              "      <td>109.372349</td>\n",
              "      <td>17.609312</td>\n",
              "      <td>58.139298</td>\n",
              "      <td>1258.327045</td>\n",
              "      <td>54.817142</td>\n",
              "    </tr>\n",
              "    <tr>\n",
              "      <th>5</th>\n",
              "      <td>Gucheng</td>\n",
              "      <td>84.074802</td>\n",
              "      <td>119.261567</td>\n",
              "      <td>15.705821</td>\n",
              "      <td>55.851320</td>\n",
              "      <td>1338.100060</td>\n",
              "      <td>58.000001</td>\n",
              "    </tr>\n",
              "    <tr>\n",
              "      <th>6</th>\n",
              "      <td>Huairou</td>\n",
              "      <td>69.501747</td>\n",
              "      <td>92.422670</td>\n",
              "      <td>12.446681</td>\n",
              "      <td>32.077275</td>\n",
              "      <td>1019.671871</td>\n",
              "      <td>60.872173</td>\n",
              "    </tr>\n",
              "    <tr>\n",
              "      <th>7</th>\n",
              "      <td>Nongzhanguan</td>\n",
              "      <td>85.079472</td>\n",
              "      <td>109.384022</td>\n",
              "      <td>18.760102</td>\n",
              "      <td>58.095053</td>\n",
              "      <td>1327.767611</td>\n",
              "      <td>58.432876</td>\n",
              "    </tr>\n",
              "    <tr>\n",
              "      <th>8</th>\n",
              "      <td>Shunyi</td>\n",
              "      <td>79.437962</td>\n",
              "      <td>99.271936</td>\n",
              "      <td>13.445971</td>\n",
              "      <td>44.094695</td>\n",
              "      <td>1197.904660</td>\n",
              "      <td>54.218810</td>\n",
              "    </tr>\n",
              "    <tr>\n",
              "      <th>9</th>\n",
              "      <td>Tiantan</td>\n",
              "      <td>82.033097</td>\n",
              "      <td>106.537076</td>\n",
              "      <td>14.510018</td>\n",
              "      <td>53.258828</td>\n",
              "      <td>1305.333262</td>\n",
              "      <td>56.148077</td>\n",
              "    </tr>\n",
              "    <tr>\n",
              "      <th>10</th>\n",
              "      <td>Wanliu</td>\n",
              "      <td>83.467612</td>\n",
              "      <td>110.707858</td>\n",
              "      <td>18.409514</td>\n",
              "      <td>65.668418</td>\n",
              "      <td>1328.761180</td>\n",
              "      <td>46.909375</td>\n",
              "    </tr>\n",
              "    <tr>\n",
              "      <th>11</th>\n",
              "      <td>Wanshouxigong</td>\n",
              "      <td>85.067548</td>\n",
              "      <td>112.505795</td>\n",
              "      <td>17.363354</td>\n",
              "      <td>55.495402</td>\n",
              "      <td>1373.618569</td>\n",
              "      <td>55.919979</td>\n",
              "    </tr>\n",
              "  </tbody>\n",
              "</table>\n",
              "</div>"
            ],
            "text/plain": [
              "          station      PM2.5        PM10        SO2        NO2           CO  \\\n",
              "0    Aotizhongxin  82.540623  110.210033  17.459251  59.074106  1264.692405   \n",
              "1       Changping  70.986438   94.788575  14.943066  44.206153  1156.990246   \n",
              "2        Dingling  66.845557   84.113713  11.797849  27.305033   925.111838   \n",
              "3          Dongsi  86.144243  110.347617  18.506142  53.953078  1331.913045   \n",
              "4        Guanyuan  82.897522  109.372349  17.609312  58.139298  1258.327045   \n",
              "5         Gucheng  84.074802  119.261567  15.705821  55.851320  1338.100060   \n",
              "6         Huairou  69.501747   92.422670  12.446681  32.077275  1019.671871   \n",
              "7    Nongzhanguan  85.079472  109.384022  18.760102  58.095053  1327.767611   \n",
              "8          Shunyi  79.437962   99.271936  13.445971  44.094695  1197.904660   \n",
              "9         Tiantan  82.033097  106.537076  14.510018  53.258828  1305.333262   \n",
              "10         Wanliu  83.467612  110.707858  18.409514  65.668418  1328.761180   \n",
              "11  Wanshouxigong  85.067548  112.505795  17.363354  55.495402  1373.618569   \n",
              "\n",
              "           O3  \n",
              "0   55.328626  \n",
              "1   57.976253  \n",
              "2   70.530792  \n",
              "3   57.700357  \n",
              "4   54.817142  \n",
              "5   58.000001  \n",
              "6   60.872173  \n",
              "7   58.432876  \n",
              "8   54.218810  \n",
              "9   56.148077  \n",
              "10  46.909375  \n",
              "11  55.919979  "
            ]
          },
          "execution_count": 821,
          "metadata": {},
          "output_type": "execute_result"
        }
      ],
      "source": [
        "monthly_avg"
      ]
    },
    {
      "cell_type": "markdown",
      "metadata": {},
      "source": [
        "Untuk menjawab pertanyaan kedua saya menambahkan kolom baru yang mengidentifikasi apakah tanggal tersebut masuk hari kerja atau akhir pekan. Kemudian data akan dikelompokan berdasarkan hari kerja atau akhir pekan. Dari kedua kategori tersebut rata-rata konsentrasi akan dihitung."
      ]
    },
    {
      "cell_type": "code",
      "execution_count": 822,
      "metadata": {},
      "outputs": [
        {
          "name": "stdout",
          "output_type": "stream",
          "text": [
            "                  Datetime  dayofweek  is_weekend\n",
            "0      2013-03-01 00:00:00          4           0\n",
            "1      2013-03-01 01:00:00          4           0\n",
            "2      2013-03-01 02:00:00          4           0\n",
            "3      2013-03-01 03:00:00          4           0\n",
            "4      2013-03-01 04:00:00          4           0\n",
            "...                    ...        ...         ...\n",
            "420763 2017-02-28 19:00:00          1           0\n",
            "420764 2017-02-28 20:00:00          1           0\n",
            "420765 2017-02-28 21:00:00          1           0\n",
            "420766 2017-02-28 22:00:00          1           0\n",
            "420767 2017-02-28 23:00:00          1           0\n",
            "\n",
            "[420768 rows x 3 columns]\n"
          ]
        }
      ],
      "source": [
        "all_df['dayofweek'] = all_df['Datetime'].dt.dayofweek\n",
        "\n",
        "all_df['is_weekend'] = all_df['dayofweek'].apply(lambda x: 1 if x>=5 else 0)\n",
        "\n",
        "print(all_df[['Datetime', 'dayofweek', 'is_weekend']])"
      ]
    },
    {
      "cell_type": "code",
      "execution_count": 823,
      "metadata": {},
      "outputs": [],
      "source": [
        "weekday_vs_weekend = all_df.groupby(['station', 'is_weekend'])[['PM2.5', 'PM10', 'SO2', 'NO2', 'CO', 'O3']].mean().reset_index()"
      ]
    },
    {
      "cell_type": "code",
      "execution_count": 824,
      "metadata": {},
      "outputs": [
        {
          "data": {
            "text/html": [
              "<div>\n",
              "<style scoped>\n",
              "    .dataframe tbody tr th:only-of-type {\n",
              "        vertical-align: middle;\n",
              "    }\n",
              "\n",
              "    .dataframe tbody tr th {\n",
              "        vertical-align: top;\n",
              "    }\n",
              "\n",
              "    .dataframe thead th {\n",
              "        text-align: right;\n",
              "    }\n",
              "</style>\n",
              "<table border=\"1\" class=\"dataframe\">\n",
              "  <thead>\n",
              "    <tr style=\"text-align: right;\">\n",
              "      <th></th>\n",
              "      <th>station</th>\n",
              "      <th>is_weekend</th>\n",
              "      <th>PM2.5</th>\n",
              "      <th>PM10</th>\n",
              "      <th>SO2</th>\n",
              "      <th>NO2</th>\n",
              "      <th>CO</th>\n",
              "      <th>O3</th>\n",
              "    </tr>\n",
              "  </thead>\n",
              "  <tbody>\n",
              "    <tr>\n",
              "      <th>0</th>\n",
              "      <td>Aotizhongxin</td>\n",
              "      <td>0</td>\n",
              "      <td>80.751719</td>\n",
              "      <td>107.776121</td>\n",
              "      <td>17.285069</td>\n",
              "      <td>58.797288</td>\n",
              "      <td>1247.204330</td>\n",
              "      <td>55.009171</td>\n",
              "    </tr>\n",
              "    <tr>\n",
              "      <th>1</th>\n",
              "      <td>Aotizhongxin</td>\n",
              "      <td>1</td>\n",
              "      <td>87.004324</td>\n",
              "      <td>116.283168</td>\n",
              "      <td>17.893872</td>\n",
              "      <td>59.764826</td>\n",
              "      <td>1308.328920</td>\n",
              "      <td>56.125735</td>\n",
              "    </tr>\n",
              "    <tr>\n",
              "      <th>2</th>\n",
              "      <td>Changping</td>\n",
              "      <td>0</td>\n",
              "      <td>69.417198</td>\n",
              "      <td>92.519534</td>\n",
              "      <td>14.668118</td>\n",
              "      <td>43.949254</td>\n",
              "      <td>1131.712807</td>\n",
              "      <td>57.710667</td>\n",
              "    </tr>\n",
              "    <tr>\n",
              "      <th>3</th>\n",
              "      <td>Changping</td>\n",
              "      <td>1</td>\n",
              "      <td>74.902029</td>\n",
              "      <td>100.450321</td>\n",
              "      <td>15.629121</td>\n",
              "      <td>44.847173</td>\n",
              "      <td>1220.062900</td>\n",
              "      <td>58.638948</td>\n",
              "    </tr>\n",
              "    <tr>\n",
              "      <th>4</th>\n",
              "      <td>Dingling</td>\n",
              "      <td>0</td>\n",
              "      <td>65.587258</td>\n",
              "      <td>82.137711</td>\n",
              "      <td>11.662439</td>\n",
              "      <td>26.792021</td>\n",
              "      <td>904.213095</td>\n",
              "      <td>70.388318</td>\n",
              "    </tr>\n",
              "    <tr>\n",
              "      <th>5</th>\n",
              "      <td>Dingling</td>\n",
              "      <td>1</td>\n",
              "      <td>69.985283</td>\n",
              "      <td>89.044266</td>\n",
              "      <td>12.135725</td>\n",
              "      <td>28.585004</td>\n",
              "      <td>977.258702</td>\n",
              "      <td>70.886295</td>\n",
              "    </tr>\n",
              "    <tr>\n",
              "      <th>6</th>\n",
              "      <td>Dongsi</td>\n",
              "      <td>0</td>\n",
              "      <td>84.055523</td>\n",
              "      <td>107.709509</td>\n",
              "      <td>18.226144</td>\n",
              "      <td>53.909824</td>\n",
              "      <td>1320.902922</td>\n",
              "      <td>57.333584</td>\n",
              "    </tr>\n",
              "    <tr>\n",
              "      <th>7</th>\n",
              "      <td>Dongsi</td>\n",
              "      <td>1</td>\n",
              "      <td>91.356051</td>\n",
              "      <td>116.930265</td>\n",
              "      <td>19.204797</td>\n",
              "      <td>54.061005</td>\n",
              "      <td>1359.385672</td>\n",
              "      <td>58.615532</td>\n",
              "    </tr>\n",
              "    <tr>\n",
              "      <th>8</th>\n",
              "      <td>Guanyuan</td>\n",
              "      <td>0</td>\n",
              "      <td>81.196033</td>\n",
              "      <td>106.953258</td>\n",
              "      <td>17.283666</td>\n",
              "      <td>58.009691</td>\n",
              "      <td>1247.803798</td>\n",
              "      <td>54.600112</td>\n",
              "    </tr>\n",
              "    <tr>\n",
              "      <th>9</th>\n",
              "      <td>Guanyuan</td>\n",
              "      <td>1</td>\n",
              "      <td>87.143102</td>\n",
              "      <td>115.408502</td>\n",
              "      <td>18.421871</td>\n",
              "      <td>58.462695</td>\n",
              "      <td>1284.584811</td>\n",
              "      <td>55.358680</td>\n",
              "    </tr>\n",
              "    <tr>\n",
              "      <th>10</th>\n",
              "      <td>Gucheng</td>\n",
              "      <td>0</td>\n",
              "      <td>82.491463</td>\n",
              "      <td>116.981010</td>\n",
              "      <td>15.626491</td>\n",
              "      <td>55.483444</td>\n",
              "      <td>1327.513316</td>\n",
              "      <td>57.794644</td>\n",
              "    </tr>\n",
              "    <tr>\n",
              "      <th>11</th>\n",
              "      <td>Gucheng</td>\n",
              "      <td>1</td>\n",
              "      <td>88.025574</td>\n",
              "      <td>124.952050</td>\n",
              "      <td>15.903765</td>\n",
              "      <td>56.768516</td>\n",
              "      <td>1364.516265</td>\n",
              "      <td>58.512410</td>\n",
              "    </tr>\n",
              "    <tr>\n",
              "      <th>12</th>\n",
              "      <td>Huairou</td>\n",
              "      <td>0</td>\n",
              "      <td>68.213813</td>\n",
              "      <td>90.398884</td>\n",
              "      <td>12.112060</td>\n",
              "      <td>31.929887</td>\n",
              "      <td>1005.006274</td>\n",
              "      <td>60.657391</td>\n",
              "    </tr>\n",
              "    <tr>\n",
              "      <th>13</th>\n",
              "      <td>Huairou</td>\n",
              "      <td>1</td>\n",
              "      <td>72.715419</td>\n",
              "      <td>97.472451</td>\n",
              "      <td>13.281632</td>\n",
              "      <td>32.445039</td>\n",
              "      <td>1056.265694</td>\n",
              "      <td>61.408101</td>\n",
              "    </tr>\n",
              "    <tr>\n",
              "      <th>14</th>\n",
              "      <td>Nongzhanguan</td>\n",
              "      <td>0</td>\n",
              "      <td>83.089225</td>\n",
              "      <td>106.827608</td>\n",
              "      <td>18.401541</td>\n",
              "      <td>57.966546</td>\n",
              "      <td>1304.686582</td>\n",
              "      <td>57.942305</td>\n",
              "    </tr>\n",
              "    <tr>\n",
              "      <th>15</th>\n",
              "      <td>Nongzhanguan</td>\n",
              "      <td>1</td>\n",
              "      <td>90.045566</td>\n",
              "      <td>115.762825</td>\n",
              "      <td>19.654791</td>\n",
              "      <td>58.415707</td>\n",
              "      <td>1385.359748</td>\n",
              "      <td>59.656958</td>\n",
              "    </tr>\n",
              "    <tr>\n",
              "      <th>16</th>\n",
              "      <td>Shunyi</td>\n",
              "      <td>0</td>\n",
              "      <td>78.012232</td>\n",
              "      <td>97.051914</td>\n",
              "      <td>13.125556</td>\n",
              "      <td>44.069109</td>\n",
              "      <td>1179.958487</td>\n",
              "      <td>54.064580</td>\n",
              "    </tr>\n",
              "    <tr>\n",
              "      <th>17</th>\n",
              "      <td>Shunyi</td>\n",
              "      <td>1</td>\n",
              "      <td>82.995466</td>\n",
              "      <td>104.811368</td>\n",
              "      <td>14.245477</td>\n",
              "      <td>44.158537</td>\n",
              "      <td>1242.684225</td>\n",
              "      <td>54.603649</td>\n",
              "    </tr>\n",
              "    <tr>\n",
              "      <th>18</th>\n",
              "      <td>Tiantan</td>\n",
              "      <td>0</td>\n",
              "      <td>80.138585</td>\n",
              "      <td>103.997943</td>\n",
              "      <td>14.261090</td>\n",
              "      <td>53.067919</td>\n",
              "      <td>1291.156268</td>\n",
              "      <td>55.817581</td>\n",
              "    </tr>\n",
              "    <tr>\n",
              "      <th>19</th>\n",
              "      <td>Tiantan</td>\n",
              "      <td>1</td>\n",
              "      <td>86.760310</td>\n",
              "      <td>112.872761</td>\n",
              "      <td>15.131145</td>\n",
              "      <td>53.735187</td>\n",
              "      <td>1340.707915</td>\n",
              "      <td>56.972736</td>\n",
              "    </tr>\n",
              "    <tr>\n",
              "      <th>20</th>\n",
              "      <td>Wanliu</td>\n",
              "      <td>0</td>\n",
              "      <td>81.837138</td>\n",
              "      <td>108.465290</td>\n",
              "      <td>18.069859</td>\n",
              "      <td>65.609059</td>\n",
              "      <td>1317.140100</td>\n",
              "      <td>46.566412</td>\n",
              "    </tr>\n",
              "    <tr>\n",
              "      <th>21</th>\n",
              "      <td>Wanliu</td>\n",
              "      <td>1</td>\n",
              "      <td>87.535995</td>\n",
              "      <td>116.303550</td>\n",
              "      <td>19.257025</td>\n",
              "      <td>65.816532</td>\n",
              "      <td>1357.758275</td>\n",
              "      <td>47.765143</td>\n",
              "    </tr>\n",
              "    <tr>\n",
              "      <th>22</th>\n",
              "      <td>Wanshouxigong</td>\n",
              "      <td>0</td>\n",
              "      <td>83.579349</td>\n",
              "      <td>110.137093</td>\n",
              "      <td>17.084859</td>\n",
              "      <td>55.355421</td>\n",
              "      <td>1360.227887</td>\n",
              "      <td>55.603176</td>\n",
              "    </tr>\n",
              "    <tr>\n",
              "      <th>23</th>\n",
              "      <td>Wanshouxigong</td>\n",
              "      <td>1</td>\n",
              "      <td>88.780924</td>\n",
              "      <td>118.416217</td>\n",
              "      <td>18.058258</td>\n",
              "      <td>55.844687</td>\n",
              "      <td>1407.031204</td>\n",
              "      <td>56.710470</td>\n",
              "    </tr>\n",
              "  </tbody>\n",
              "</table>\n",
              "</div>"
            ],
            "text/plain": [
              "          station  is_weekend      PM2.5        PM10        SO2        NO2  \\\n",
              "0    Aotizhongxin           0  80.751719  107.776121  17.285069  58.797288   \n",
              "1    Aotizhongxin           1  87.004324  116.283168  17.893872  59.764826   \n",
              "2       Changping           0  69.417198   92.519534  14.668118  43.949254   \n",
              "3       Changping           1  74.902029  100.450321  15.629121  44.847173   \n",
              "4        Dingling           0  65.587258   82.137711  11.662439  26.792021   \n",
              "5        Dingling           1  69.985283   89.044266  12.135725  28.585004   \n",
              "6          Dongsi           0  84.055523  107.709509  18.226144  53.909824   \n",
              "7          Dongsi           1  91.356051  116.930265  19.204797  54.061005   \n",
              "8        Guanyuan           0  81.196033  106.953258  17.283666  58.009691   \n",
              "9        Guanyuan           1  87.143102  115.408502  18.421871  58.462695   \n",
              "10        Gucheng           0  82.491463  116.981010  15.626491  55.483444   \n",
              "11        Gucheng           1  88.025574  124.952050  15.903765  56.768516   \n",
              "12        Huairou           0  68.213813   90.398884  12.112060  31.929887   \n",
              "13        Huairou           1  72.715419   97.472451  13.281632  32.445039   \n",
              "14   Nongzhanguan           0  83.089225  106.827608  18.401541  57.966546   \n",
              "15   Nongzhanguan           1  90.045566  115.762825  19.654791  58.415707   \n",
              "16         Shunyi           0  78.012232   97.051914  13.125556  44.069109   \n",
              "17         Shunyi           1  82.995466  104.811368  14.245477  44.158537   \n",
              "18        Tiantan           0  80.138585  103.997943  14.261090  53.067919   \n",
              "19        Tiantan           1  86.760310  112.872761  15.131145  53.735187   \n",
              "20         Wanliu           0  81.837138  108.465290  18.069859  65.609059   \n",
              "21         Wanliu           1  87.535995  116.303550  19.257025  65.816532   \n",
              "22  Wanshouxigong           0  83.579349  110.137093  17.084859  55.355421   \n",
              "23  Wanshouxigong           1  88.780924  118.416217  18.058258  55.844687   \n",
              "\n",
              "             CO         O3  \n",
              "0   1247.204330  55.009171  \n",
              "1   1308.328920  56.125735  \n",
              "2   1131.712807  57.710667  \n",
              "3   1220.062900  58.638948  \n",
              "4    904.213095  70.388318  \n",
              "5    977.258702  70.886295  \n",
              "6   1320.902922  57.333584  \n",
              "7   1359.385672  58.615532  \n",
              "8   1247.803798  54.600112  \n",
              "9   1284.584811  55.358680  \n",
              "10  1327.513316  57.794644  \n",
              "11  1364.516265  58.512410  \n",
              "12  1005.006274  60.657391  \n",
              "13  1056.265694  61.408101  \n",
              "14  1304.686582  57.942305  \n",
              "15  1385.359748  59.656958  \n",
              "16  1179.958487  54.064580  \n",
              "17  1242.684225  54.603649  \n",
              "18  1291.156268  55.817581  \n",
              "19  1340.707915  56.972736  \n",
              "20  1317.140100  46.566412  \n",
              "21  1357.758275  47.765143  \n",
              "22  1360.227887  55.603176  \n",
              "23  1407.031204  56.710470  "
            ]
          },
          "execution_count": 824,
          "metadata": {},
          "output_type": "execute_result"
        }
      ],
      "source": [
        "weekday_vs_weekend"
      ]
    },
    {
      "cell_type": "markdown",
      "metadata": {
        "id": "th_Lzl2Fkj9O"
      },
      "source": [
        "**Insight:**\n",
        "- Dari analisis didapat bahwa wilayah yang memiliki rata-rata polutan tertinggi berbeda-beda bergantung pada jenis polutannya.\n",
        "- Dari analisis juga didapat bahwa rata-rata polutan lebih tinggi pada akhir pekan mungkin akibat dari peningkatan aktivitas kendaraan pribadi karena masyarakat bepergian untuk rekreasi, belanja, atau kegiatan lainnya."
      ]
    },
    {
      "cell_type": "markdown",
      "metadata": {
        "id": "zsyZjqak8DC2"
      },
      "source": [
        "## Visualization & Explanatory Analysis"
      ]
    },
    {
      "cell_type": "markdown",
      "metadata": {
        "id": "HZxOiQ6n8DC2"
      },
      "source": [
        "### Pertanyaan 1: Wilayah mana saja yang memiliki rata-rata konsentrasi polutan(PM2.5, PM10, SO2, NO2, CO, O3) tertinggi? "
      ]
    },
    {
      "cell_type": "markdown",
      "metadata": {},
      "source": [
        "Untuk melakukan visualisai, saya membuat dataframe untuk masing-masing wilayah. Dataframe dibuat dengan mengelompokan data berdasar polutan. Dataframe tersebut kemudian akan divisualisasikan dengan menggunakan Bar Chart untuk menunjukan kota yang memiliki rata-rata polutan tertinggi."
      ]
    },
    {
      "cell_type": "code",
      "execution_count": 825,
      "metadata": {
        "id": "1swJUdAD8DC2"
      },
      "outputs": [],
      "source": [
        "pollutants = ['PM2.5', 'PM10', 'SO2', 'NO2', 'CO', 'O3']\n",
        "dfs = [all_df.groupby(['station']).agg({pollutant: 'mean'}).sort_values(by=pollutant, ascending=False).reset_index() for pollutant in pollutants]"
      ]
    },
    {
      "cell_type": "code",
      "execution_count": 826,
      "metadata": {},
      "outputs": [
        {
          "data": {
            "image/png": "[encoded data removed]",
            "text/plain": [
              "<Figure size 2400x1800 with 6 Axes>"
            ]
          },
          "metadata": {},
          "output_type": "display_data"
        }
      ],
      "source": [
        "fig, axes = plt.subplots(3, 2, figsize=(24, 18))\n",
        "high_color = \"#F20813\" \n",
        "low_color = \"#FFBDC0\"\n",
        "\n",
        "for i, data in enumerate(dfs):\n",
        "    ax = axes[i // 2, i % 2]\n",
        "    max_value = data[data.columns[1]].max()\n",
        "    colors = [high_color if value == max_value else low_color for value in data[data.columns[1]]]\n",
        "\n",
        "    ax.bar(data['station'], data[data.columns[1]], color=colors, edgecolor='black')\n",
        "    ax.set_title(f'Rata-Rata Konsentrasi {data.columns[1]} Berdasar Wilayah', fontsize=18)\n",
        "    ax.set_xlabel('Wilayah', fontsize=14)\n",
        "    ax.set_ylabel(f'Rata-Rata Konsentrasi {data.columns[1]}', fontsize=14)\n",
        "    ax.tick_params(axis='x', rotation=45)\n",
        "    ax.grid(axis='y', linestyle='--', alpha=0.7)\n",
        "\n",
        "plt.tight_layout()\n",
        "plt.show()"
      ]
    },
    {
      "cell_type": "markdown",
      "metadata": {
        "id": "DgHI7CiU8DC2"
      },
      "source": [
        "### Pertanyaan 2: Bagaimana kualitas udara berdasarkan hari kerja dan akhir pekan di setiap wilayah?"
      ]
    },
    {
      "cell_type": "markdown",
      "metadata": {},
      "source": [
        "Untuk memvisualisasikan kualitas udara berdasarkan hari kerja dan akhir pekan saya menggunakan Clustered Bar Chart yang akan menampilkan data dari setiap wilayah dan polutan. "
      ]
    },
    {
      "cell_type": "code",
      "execution_count": 827,
      "metadata": {
        "id": "Go0lCsvO8DC2"
      },
      "outputs": [
        {
          "data": {
            "image/png": "[encoded data removed]",
            "text/plain": [
              "<Figure size 1800x1800 with 6 Axes>"
            ]
          },
          "metadata": {},
          "output_type": "display_data"
        }
      ],
      "source": [
        "pollutants = ['PM2.5', 'PM10', 'SO2', 'NO2', 'CO', 'O3']\n",
        "\n",
        "fig, axes = plt.subplots(3, 2, figsize=(18, 18))\n",
        "axes = axes.flatten()\n",
        "\n",
        "for i, pollutant in enumerate(pollutants):\n",
        "    grouped_data = weekday_vs_weekend.pivot(index='station', columns='is_weekend', values=pollutant)\n",
        "    grouped_data.plot(kind='bar', ax=axes[i], edgecolor='black', color=['#FFDE59', '#060270'], legend=True)\n",
        "\n",
        "    axes[i].set_xlabel('Wilayah', fontsize=12)\n",
        "    axes[i].set_ylabel(f'Rata-Rata Konsentrasi {pollutant}', fontsize=12)\n",
        "    axes[i].set_title(f'Rata-Rata Konsentrasi {pollutant} Berdasarkan Wilayah\\nHari Kerja vs Akhir Pekan', fontsize=14)\n",
        "    axes[i].tick_params(axis='x', rotation=45) \n",
        "    axes[i].legend(['Hari Kerja', 'Akhir Pekan'], title='Tipe Hari')\n",
        "\n",
        "plt.tight_layout()\n",
        "plt.show() "
      ]
    },
    {
      "cell_type": "markdown",
      "metadata": {
        "id": "_0-36BDLklRg"
      },
      "source": [
        "**Insight:**\n",
        "- Rata-rata konsentrasi tertinggi untuk setiap polutan tertinggi dipegang oleh wilayah yang berbeda-beda. Namun, Nazhanguan selalu berada di lima besar kota dengan konsentrasi polutan yang tertinggi. Hal tersebut menunjukan bahwa daerah tersebut miliki masalah terkait kualitas udaranya.\n",
        "- Rata-rata konsentrasi setiap polutan di semua wilayah pada saat akhir pekan selalu lebih tinggi dari hari kerja."
      ]
    },
    {
      "cell_type": "markdown",
      "metadata": {
        "id": "_WeHlCeX8DC2"
      },
      "source": [
        "## Conclusion"
      ]
    },
    {
      "cell_type": "markdown",
      "metadata": {
        "id": "ZTcyR48Y8DC2"
      },
      "source": [
        "- Conclution pertanyaan 1: Rata-rata konsentrasi tertinggi untuk setiap polutan dipengang oleh wilayah yang berbeda-beda. Untuk rata-rata konsentrasi PM2.5 tertinggi adalah Dongsi, PM10 tertinggi adalah Gucheng, SO2 tertinggi adalah Nongzhanguan, NO2 tertinggi adalah Wanliu, CO tertinggi adalah Wanshouxigong, dan O3 tertinggi adalah Dingling. Namun, terdapat satu wilayah yang selalu masuk dalam lima besar konsentrasi polutan tertinggi, yaitu Nongzhanguan. Hal tersebut mengindikasikan bahwa kemungkina wilayah Nangzhanguan memiliki masalah terkait kualitas udaranya sehingga memerlukan perhatian lebih dari pihak yang berwenang.\n",
        "- Conclution pertanyaan 2: Rata-rata konsentrasi setiap polutan selalu lebih tinggi di akhir pekan dibandingkan dengan hari kerja di setiap wilayah. Hal tersebut wajar karena mungkin disebabkan oleh meningkatnya aktivitas manusia, seperti rekreasi dan transportasi, yang cenderung lebih intensif pada akhir pekan. Aktivitas-aktivitas ini berpotensi meningkatkan emisi polutan ke udara, yang berdampak pada kualitas udara. Namun, pemantauan dan evaluasi tetap perlu dilakukan, terutama apabila terdapat industri yang secara ilegal tetap beroperasi di akhir pekan, yang dapat meningkatkan tingkat polutan tersebut."
      ]
    }
  ],
  "metadata": {
    "colab": {
      "provenance": []
    },
    "kernelspec": {
      "display_name": "Python 3",
      "language": "python",
      "name": "python3"
    },
    "language_info": {
      "codemirror_mode": {
        "name": "ipython",
        "version": 3
      },
      "file_extension": ".py",
      "mimetype": "text/x-python",
      "name": "python",
      "nbconvert_exporter": "python",
      "pygments_lexer": "ipython3",
      "version": "3.11.5"
    },
    "orig_nbformat": 4,
    "vscode": {
      "interpreter": {
        "hash": "972b3bf27e332e87b5379f2791f6ef9dfc79c71018c370b0d7423235e20fe4d7"
      }
    }
  },
  "nbformat": 4,
  "nbformat_minor": 0
}
